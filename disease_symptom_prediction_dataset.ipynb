{
 "cells": [
  {
   "cell_type": "code",
   "execution_count": 467,
   "metadata": {},
   "outputs": [],
   "source": [
    "import pandas as pd\n",
    "import numpy as np\n",
    "import os\n",
    "\n",
    "symptom_precaution = {row[0].strip(): row[1:] for row in pd.read_csv(os.path.join(\"datasets\", \"disease symptom prediction\", \"symptom_precaution.csv\")).to_numpy()}\n",
    "symptom_desc = {row[0].strip(): row[1] for row in pd.read_csv(os.path.join(\"datasets\", \"disease symptom prediction\", \"symptom_Description.csv\")).to_numpy()}\n",
    "symptoms = pd.read_csv(os.path.join(\"datasets\", \"disease symptom prediction\", \"Symptom-severity.csv\")).to_numpy()"
   ]
  },
  {
   "cell_type": "code",
   "execution_count": 473,
   "metadata": {},
   "outputs": [],
   "source": [
    "# Gets a set of all the inflictions\n",
    "data = pd.read_csv(os.path.join(\"datasets\", \"disease symptom prediction\", \"dataset.csv\"))\n",
    "arr = data.to_numpy()\n",
    "\n",
    "allInflictions = set()\n",
    "for row in arr:\n",
    "    row = row[1:]\n",
    "    for item in row:\n",
    "        if type(item) is str and item not in allInflictions:\n",
    "            allInflictions.add(item.strip())"
   ]
  },
  {
   "cell_type": "code",
   "execution_count": 469,
   "metadata": {},
   "outputs": [],
   "source": [
    "# associations every infliction with the column in the data set\n",
    "counter = 0\n",
    "indexer = {}\n",
    "for item in allInflictions:\n",
    "    indexer[item] = counter\n",
    "    counter += 1"
   ]
  },
  {
   "cell_type": "code",
   "execution_count": 471,
   "metadata": {},
   "outputs": [
    {
     "data": {
      "text/html": [
       "<div>\n",
       "<style scoped>\n",
       "    .dataframe tbody tr th:only-of-type {\n",
       "        vertical-align: middle;\n",
       "    }\n",
       "\n",
       "    .dataframe tbody tr th {\n",
       "        vertical-align: top;\n",
       "    }\n",
       "\n",
       "    .dataframe thead th {\n",
       "        text-align: right;\n",
       "    }\n",
       "</style>\n",
       "<table border=\"1\" class=\"dataframe\">\n",
       "  <thead>\n",
       "    <tr style=\"text-align: right;\">\n",
       "      <th></th>\n",
       "      <th>0</th>\n",
       "      <th>1</th>\n",
       "    </tr>\n",
       "  </thead>\n",
       "  <tbody>\n",
       "    <tr>\n",
       "      <th>0</th>\n",
       "      <td>[0, 0, 0, 0, 0, 0, 0, 0, 0, 0, 0, 0, 0, 0, 0, ...</td>\n",
       "      <td>Healthy</td>\n",
       "    </tr>\n",
       "    <tr>\n",
       "      <th>1</th>\n",
       "      <td>[0, 0, 0, 0, 0, 0, 0, 0, 0, 0, 0, 0, 0, 0, 0, ...</td>\n",
       "      <td>Healthy</td>\n",
       "    </tr>\n",
       "    <tr>\n",
       "      <th>2</th>\n",
       "      <td>[0, 0, 0, 0, 0, 0, 0, 0, 0, 0, 0, 0, 0, 0, 0, ...</td>\n",
       "      <td>Healthy</td>\n",
       "    </tr>\n",
       "    <tr>\n",
       "      <th>3</th>\n",
       "      <td>[0, 0, 0, 0, 0, 0, 0, 0, 0, 0, 0, 0, 0, 0, 0, ...</td>\n",
       "      <td>Healthy</td>\n",
       "    </tr>\n",
       "    <tr>\n",
       "      <th>4</th>\n",
       "      <td>[0, 0, 0, 0, 0, 0, 0, 0, 0, 0, 0, 0, 0, 0, 0, ...</td>\n",
       "      <td>Healthy</td>\n",
       "    </tr>\n",
       "    <tr>\n",
       "      <th>...</th>\n",
       "      <td>...</td>\n",
       "      <td>...</td>\n",
       "    </tr>\n",
       "    <tr>\n",
       "      <th>4923</th>\n",
       "      <td>[0, 0, 0, 0, 0, 0, 0, 0, 0, 0, 0, 0, 0, 0, 0, ...</td>\n",
       "      <td>(vertigo) Paroymsal  Positional Vertigo</td>\n",
       "    </tr>\n",
       "    <tr>\n",
       "      <th>4924</th>\n",
       "      <td>[0, 0, 0, 0, 0, 0, 0, 1, 0, 0, 0, 0, 0, 0, 0, ...</td>\n",
       "      <td>Acne</td>\n",
       "    </tr>\n",
       "    <tr>\n",
       "      <th>4925</th>\n",
       "      <td>[0, 0, 0, 0, 0, 0, 0, 0, 0, 0, 0, 0, 0, 0, 0, ...</td>\n",
       "      <td>Urinary tract infection</td>\n",
       "    </tr>\n",
       "    <tr>\n",
       "      <th>4926</th>\n",
       "      <td>[0, 0, 0, 0, 0, 0, 0, 0, 0, 0, 0, 0, 0, 0, 0, ...</td>\n",
       "      <td>Psoriasis</td>\n",
       "    </tr>\n",
       "    <tr>\n",
       "      <th>4927</th>\n",
       "      <td>[0, 0, 0, 0, 0, 0, 0, 0, 0, 0, 0, 0, 0, 0, 0, ...</td>\n",
       "      <td>Impetigo</td>\n",
       "    </tr>\n",
       "  </tbody>\n",
       "</table>\n",
       "<p>4928 rows × 2 columns</p>\n",
       "</div>"
      ],
      "text/plain": [
       "                                                      0   \n",
       "0     [0, 0, 0, 0, 0, 0, 0, 0, 0, 0, 0, 0, 0, 0, 0, ...  \\\n",
       "1     [0, 0, 0, 0, 0, 0, 0, 0, 0, 0, 0, 0, 0, 0, 0, ...   \n",
       "2     [0, 0, 0, 0, 0, 0, 0, 0, 0, 0, 0, 0, 0, 0, 0, ...   \n",
       "3     [0, 0, 0, 0, 0, 0, 0, 0, 0, 0, 0, 0, 0, 0, 0, ...   \n",
       "4     [0, 0, 0, 0, 0, 0, 0, 0, 0, 0, 0, 0, 0, 0, 0, ...   \n",
       "...                                                 ...   \n",
       "4923  [0, 0, 0, 0, 0, 0, 0, 0, 0, 0, 0, 0, 0, 0, 0, ...   \n",
       "4924  [0, 0, 0, 0, 0, 0, 0, 1, 0, 0, 0, 0, 0, 0, 0, ...   \n",
       "4925  [0, 0, 0, 0, 0, 0, 0, 0, 0, 0, 0, 0, 0, 0, 0, ...   \n",
       "4926  [0, 0, 0, 0, 0, 0, 0, 0, 0, 0, 0, 0, 0, 0, 0, ...   \n",
       "4927  [0, 0, 0, 0, 0, 0, 0, 0, 0, 0, 0, 0, 0, 0, 0, ...   \n",
       "\n",
       "                                            1  \n",
       "0                                     Healthy  \n",
       "1                                     Healthy  \n",
       "2                                     Healthy  \n",
       "3                                     Healthy  \n",
       "4                                     Healthy  \n",
       "...                                       ...  \n",
       "4923  (vertigo) Paroymsal  Positional Vertigo  \n",
       "4924                                     Acne  \n",
       "4925                  Urinary tract infection  \n",
       "4926                                Psoriasis  \n",
       "4927                                 Impetigo  \n",
       "\n",
       "[4928 rows x 2 columns]"
      ]
     },
     "execution_count": 471,
     "metadata": {},
     "output_type": "execute_result"
    }
   ],
   "source": [
    "# converts list of symptoms to be array of 0 and 1s\n",
    "structured = [] # 2D array of data [[0s/1s], [diseasename]]\n",
    "for row in arr:\n",
    "    infliction = row[0].strip()\n",
    "    row = row[1:]\n",
    "    newRow = [0 for i in range(counter)]\n",
    "    for symptom in row:\n",
    "        if type(symptom) is str:\n",
    "            newRow[indexer[symptom.strip()]] = 1\n",
    "    structured.append([newRow, infliction])\n",
    "\n",
    "df = pd.DataFrame(structured)\n",
    "df"
   ]
  },
  {
   "cell_type": "code",
   "execution_count": 415,
   "metadata": {},
   "outputs": [],
   "source": [
    "ordered_list = sorted((value, key) for key, value in indexer.items())\n",
    "ordered_words_only = [item[1].strip() for item in ordered_list]"
   ]
  },
  {
   "cell_type": "code",
   "execution_count": 472,
   "metadata": {},
   "outputs": [],
   "source": [
    "# maps the illnesses to a unique integer to use for learning\n",
    "learning_data = df.to_numpy()\n",
    "\n",
    "unique_int_to_illness = {k: v for k, v in enumerate(symptom_desc.keys())}\n",
    "illness_to_unique_int = {v: k for k, v in unique_int_to_illness.items()}\n",
    "map_values = np.vectorize(lambda x : illness_to_unique_int[x])\n",
    "\n",
    "learning_data[:, 1] = map_values(learning_data[:, 1])"
   ]
  },
  {
   "cell_type": "code",
   "execution_count": 417,
   "metadata": {},
   "outputs": [],
   "source": [
    "X = list(learning_data[:, 0])\n",
    "Y = list(learning_data[:, 1])"
   ]
  },
  {
   "cell_type": "code",
   "execution_count": 452,
   "metadata": {},
   "outputs": [],
   "source": [
    "from sklearn.model_selection import train_test_split\n",
    "Xtrain, Xtest, Ytrain, Ytest = train_test_split(X, Y, test_size=0.33)"
   ]
  },
  {
   "cell_type": "code",
   "execution_count": 419,
   "metadata": {},
   "outputs": [],
   "source": [
    "# Or use all of data for training\n",
    "# Xtrain = X\n",
    "# Ytrain = Y"
   ]
  },
  {
   "cell_type": "code",
   "execution_count": 453,
   "metadata": {},
   "outputs": [
    {
     "name": "stdout",
     "output_type": "stream",
     "text": [
      "Training error rate: 0.0      \n",
      "Validation error rate: 0.0\n"
     ]
    }
   ],
   "source": [
    "from sklearn.linear_model import LogisticRegression\n",
    "from sklearn.metrics import zero_one_loss\n",
    "\n",
    "logistic_classifier = LogisticRegression().fit(Xtrain, Ytrain)\n",
    "print(f\"Training error rate: {zero_one_loss(Ytrain, logistic_classifier.predict(Xtrain))}\\\n",
    "      \\nValidation error rate: {zero_one_loss(Ytest, logistic_classifier.predict(Xtest))}\")\n"
   ]
  },
  {
   "cell_type": "code",
   "execution_count": 454,
   "metadata": {},
   "outputs": [
    {
     "name": "stdout",
     "output_type": "stream",
     "text": [
      "Training error rate: 0.0      \n",
      "Validation error rate: 0.003687768899815591\n"
     ]
    }
   ],
   "source": [
    "from sklearn.tree import DecisionTreeClassifier\n",
    "decisiontree_classifier = DecisionTreeClassifier().fit(Xtrain, Ytrain)\n",
    "print(f\"Training error rate: {zero_one_loss(Ytrain, decisiontree_classifier.predict(Xtrain))}\\\n",
    "      \\nValidation error rate: {zero_one_loss(Ytest, decisiontree_classifier.predict(Xtest))}\")"
   ]
  },
  {
   "cell_type": "code",
   "execution_count": 455,
   "metadata": {},
   "outputs": [
    {
     "name": "stdout",
     "output_type": "stream",
     "text": [
      "Training error rate: 0.0      \n",
      "Validation error rate: 0.0\n"
     ]
    }
   ],
   "source": [
    "from sklearn.ensemble import RandomForestClassifier\n",
    "\n",
    "randomforest_classifier = RandomForestClassifier().fit(Xtrain, Ytrain)\n",
    "print(f\"Training error rate: {zero_one_loss(Ytrain, randomforest_classifier.predict(Xtrain))}\\\n",
    "      \\nValidation error rate: {zero_one_loss(Ytest, randomforest_classifier.predict(Xtest))}\")"
   ]
  },
  {
   "cell_type": "code",
   "execution_count": 474,
   "metadata": {},
   "outputs": [
    {
     "name": "stdout",
     "output_type": "stream",
     "text": [
      "Performing iteration 0\n",
      "Performing iteration 1\n",
      "Performing iteration 2\n",
      "Performing iteration 3\n",
      "Performing iteration 4\n",
      "Performing iteration 5\n",
      "Performing iteration 6\n",
      "Performing iteration 7\n",
      "Performing iteration 8\n",
      "Performing iteration 9\n",
      "LogReg Training Error: 0.0\n",
      "LogReg Testing Error: 4.917025199754121e-06\n",
      "\n",
      "\n",
      "DecTree Training Error: 0.0\n",
      "DecTree Testing Error: 1.1063306699446773e-05\n",
      "\n",
      "\n",
      "RanFor Training Error: 0.0\n",
      "RanFor Testing Error: 3.687768899815591e-06\n"
     ]
    }
   ],
   "source": [
    "# Generate n models and take the average of their error\n",
    "sum_logreg_train = 0\n",
    "sum_dectree_train = 0\n",
    "sum_ranfor_train = 0\n",
    "sum_logreg_test = 0\n",
    "sum_dectree_test = 0\n",
    "sum_ranfor_test = 0\n",
    "\n",
    "n = 10\n",
    "\n",
    "for _ in range(n):\n",
    "    print(f\"Performing iteration {_}\")\n",
    "    Xtrain, Xtest, Ytrain, Ytest = train_test_split(X, Y, test_size=0.33)\n",
    "\n",
    "    logistic_classifier = LogisticRegression().fit(Xtrain, Ytrain)\n",
    "    sum_logreg_train += zero_one_loss(Ytrain, logistic_classifier.predict(Xtrain))\n",
    "    sum_logreg_test += zero_one_loss(Ytest, decisiontree_classifier.predict(Xtest))\n",
    "\n",
    "    decisiontree_classifier = DecisionTreeClassifier().fit(Xtrain, Ytrain)\n",
    "    sum_dectree_train += zero_one_loss(Ytrain, decisiontree_classifier.predict(Xtrain))\n",
    "    sum_dectree_test += zero_one_loss(Ytest, decisiontree_classifier.predict(Xtest))\n",
    "\n",
    "    randomforest_classifier = RandomForestClassifier().fit(Xtrain, Ytrain)\n",
    "    sum_ranfor_train += zero_one_loss(Ytrain, randomforest_classifier.predict(Xtrain))\n",
    "    sum_ranfor_test += zero_one_loss(Ytest, randomforest_classifier.predict(Xtest))\n",
    "\n",
    "print(f\"LogReg Training Error: {sum_logreg_train / 1000}\\nLogReg Testing Error: {sum_logreg_test / 1000}\\n\\n\")\n",
    "print(f\"DecTree Training Error: {sum_dectree_train / 1000}\\nDecTree Testing Error: {sum_dectree_test / 1000}\\n\\n\")\n",
    "print(f\"RanFor Training Error: {sum_ranfor_train / 1000}\\nRanFor Testing Error: {sum_ranfor_test / 1000}\")"
   ]
  },
  {
   "cell_type": "code",
   "execution_count": null,
   "metadata": {},
   "outputs": [
    {
     "data": {
      "application/vnd.jupyter.widget-view+json": {
       "model_id": "bf8bb0d533174f92ab3efb661e85f0ac",
       "version_major": 2,
       "version_minor": 0
      },
      "text/plain": [
       "VBox(children=(HBox(children=(Checkbox(value=False, description='abdominal_pain'), Checkbox(value=False, descr…"
      ]
     },
     "metadata": {},
     "output_type": "display_data"
    }
   ],
   "source": [
    "import ipywidgets as widgets\n",
    "from IPython.display import display\n",
    "\n",
    "input_symptoms = [0] * len(indexer)\n",
    "\n",
    "# Sample options for checkboxes\n",
    "options = sorted(list(indexer.keys()))\n",
    "\n",
    "# Number of options per line\n",
    "options_per_line = 5\n",
    "\n",
    "# Calculate the number of rows needed\n",
    "num_rows = len(options) // options_per_line + (len(options) % options_per_line > 0)\n",
    "\n",
    "# Create a list to store HBoxes for each row\n",
    "checkbox_rows = []\n",
    "\n",
    "# Iterate over rows and create an HBox for each row\n",
    "for i in range(num_rows):\n",
    "    start_index = i * options_per_line\n",
    "    end_index = (i + 1) * options_per_line\n",
    "    checkboxes_in_row = [widgets.Checkbox(value=False, description=option) for option in options[start_index:end_index]]\n",
    "    row_layout = widgets.HBox(checkboxes_in_row)\n",
    "    checkbox_rows.append(row_layout)\n",
    "\n",
    "# Display VBox to arrange rows vertically\n",
    "checkboxes_layout = widgets.VBox(checkbox_rows)\n",
    "display(checkboxes_layout)\n",
    "\n",
    "# Function to handle checkbox value changes\n",
    "def on_checkbox_change(change):\n",
    "    checkbox = change['owner']\n",
    "    checkbox_value = change['new']\n",
    "    input_symptoms[indexer[checkbox.description]] = 1 if checkbox_value else 0\n",
    "\n",
    "# Attach the function to each checkbox's value change event\n",
    "for row_layout in checkbox_rows:\n",
    "    for checkbox in row_layout.children:\n",
    "        checkbox.observe(on_checkbox_change, names='value')"
   ]
  },
  {
   "cell_type": "code",
   "execution_count": 468,
   "metadata": {},
   "outputs": [
    {
     "name": "stdout",
     "output_type": "stream",
     "text": [
      "LogisticRegression: Diabetes\n",
      "Diabetes is a disease that occurs when your blood glucose, also called blood sugar, is too high. Blood glucose is your main source of energy and comes from the food you eat. Insulin, a hormone made by the pancreas, helps glucose from food get into your cells to be used for energy.\n",
      "Precautions to take:\n",
      "\t- have balanced diet\n",
      "\t- exercise\n",
      "\t- consult doctor\n",
      "\t- follow up\n",
      "\n",
      "\n",
      "DecisionTreeClassifier: Diabetes\n",
      "Diabetes is a disease that occurs when your blood glucose, also called blood sugar, is too high. Blood glucose is your main source of energy and comes from the food you eat. Insulin, a hormone made by the pancreas, helps glucose from food get into your cells to be used for energy.\n",
      "Precautions to take:\n",
      "\t- have balanced diet\n",
      "\t- exercise\n",
      "\t- consult doctor\n",
      "\t- follow up\n",
      "\n",
      "\n",
      "RandomForestClassifier: Diabetes\n",
      "Diabetes is a disease that occurs when your blood glucose, also called blood sugar, is too high. Blood glucose is your main source of energy and comes from the food you eat. Insulin, a hormone made by the pancreas, helps glucose from food get into your cells to be used for energy.\n",
      "Precautions to take:\n",
      "\t- have balanced diet\n",
      "\t- exercise\n",
      "\t- consult doctor\n",
      "\t- follow up\n",
      "\n",
      "\n"
     ]
    }
   ],
   "source": [
    "for classifier in [logistic_classifier, decisiontree_classifier, randomforest_classifier]:\n",
    "    pred = unique_int_to_illness[classifier.predict([input_symptoms])[0]]\n",
    "    print(f\"{type(classifier).__name__}: {pred}\")\n",
    "    print(symptom_desc[pred])\n",
    "    print(\"Precautions to take:\")\n",
    "    for prec in symptom_precaution[pred]:\n",
    "        # check for nan value\n",
    "        if prec == prec:\n",
    "            print(f\"\\t- {prec}\")\n",
    "    print(\"\\n\")"
   ]
  }
 ],
 "metadata": {
  "kernelspec": {
   "display_name": "Python 3",
   "language": "python",
   "name": "python3"
  },
  "language_info": {
   "codemirror_mode": {
    "name": "ipython",
    "version": 3
   },
   "file_extension": ".py",
   "mimetype": "text/x-python",
   "name": "python",
   "nbconvert_exporter": "python",
   "pygments_lexer": "ipython3",
   "version": "3.11.1"
  }
 },
 "nbformat": 4,
 "nbformat_minor": 2
}
