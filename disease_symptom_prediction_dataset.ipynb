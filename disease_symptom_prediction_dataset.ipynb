{
 "cells": [
  {
   "cell_type": "code",
   "execution_count": 227,
   "metadata": {},
   "outputs": [],
   "source": [
    "import pandas as pd\n",
    "import numpy as np\n",
    "import os\n",
    "\n",
    "symptom_precaution = {row[0]: row[1:] for row in pd.read_csv(os.path.join(\"datasets\", \"disease symptom prediction\", \"symptom_precaution.csv\")).to_numpy()}\n",
    "symptom_desc = {row[0]: row[1] for row in pd.read_csv(os.path.join(\"datasets\", \"disease symptom prediction\", \"symptom_Description.csv\")).to_numpy()}\n",
    "symptoms = pd.read_csv(os.path.join(\"datasets\", \"disease symptom prediction\", \"Symptom-severity.csv\")).to_numpy()"
   ]
  },
  {
   "cell_type": "code",
   "execution_count": 20,
   "metadata": {},
   "outputs": [
    {
     "data": {
      "text/plain": [
       "{'abdominal_pain',\n",
       " 'abnormal_menstruation',\n",
       " 'acidity',\n",
       " 'acute_liver_failure',\n",
       " 'altered_sensorium',\n",
       " 'anxiety',\n",
       " 'back_pain',\n",
       " 'belly_pain',\n",
       " 'blackheads',\n",
       " 'bladder_discomfort',\n",
       " 'blister',\n",
       " 'blood_in_sputum',\n",
       " 'bloody_stool',\n",
       " 'blurred_and_distorted_vision',\n",
       " 'breathlessness',\n",
       " 'brittle_nails',\n",
       " 'bruising',\n",
       " 'burning_micturition',\n",
       " 'chest_pain',\n",
       " 'chills',\n",
       " 'cold_hands_and_feets',\n",
       " 'coma',\n",
       " 'congestion',\n",
       " 'constipation',\n",
       " 'continuous_feel_of_urine',\n",
       " 'continuous_sneezing',\n",
       " 'cough',\n",
       " 'cramps',\n",
       " 'dark_urine',\n",
       " 'dehydration',\n",
       " 'depression',\n",
       " 'diarrhoea',\n",
       " 'dischromic _patches',\n",
       " 'distention_of_abdomen',\n",
       " 'dizziness',\n",
       " 'drying_and_tingling_lips',\n",
       " 'enlarged_thyroid',\n",
       " 'excessive_hunger',\n",
       " 'extra_marital_contacts',\n",
       " 'family_history',\n",
       " 'fast_heart_rate',\n",
       " 'fatigue',\n",
       " 'fluid_overload',\n",
       " 'foul_smell_of urine',\n",
       " 'headache',\n",
       " 'high_fever',\n",
       " 'hip_joint_pain',\n",
       " 'history_of_alcohol_consumption',\n",
       " 'increased_appetite',\n",
       " 'indigestion',\n",
       " 'inflammatory_nails',\n",
       " 'internal_itching',\n",
       " 'irregular_sugar_level',\n",
       " 'irritability',\n",
       " 'irritation_in_anus',\n",
       " 'itching',\n",
       " 'joint_pain',\n",
       " 'knee_pain',\n",
       " 'lack_of_concentration',\n",
       " 'lethargy',\n",
       " 'loss_of_appetite',\n",
       " 'loss_of_balance',\n",
       " 'loss_of_smell',\n",
       " 'malaise',\n",
       " 'mild_fever',\n",
       " 'mood_swings',\n",
       " 'movement_stiffness',\n",
       " 'mucoid_sputum',\n",
       " 'muscle_pain',\n",
       " 'muscle_wasting',\n",
       " 'muscle_weakness',\n",
       " 'nausea',\n",
       " 'neck_pain',\n",
       " 'nodal_skin_eruptions',\n",
       " 'obesity',\n",
       " 'pain_behind_the_eyes',\n",
       " 'pain_during_bowel_movements',\n",
       " 'pain_in_anal_region',\n",
       " 'painful_walking',\n",
       " 'palpitations',\n",
       " 'passage_of_gases',\n",
       " 'patches_in_throat',\n",
       " 'phlegm',\n",
       " 'polyuria',\n",
       " 'prominent_veins_on_calf',\n",
       " 'puffy_face_and_eyes',\n",
       " 'pus_filled_pimples',\n",
       " 'receiving_blood_transfusion',\n",
       " 'receiving_unsterile_injections',\n",
       " 'red_sore_around_nose',\n",
       " 'red_spots_over_body',\n",
       " 'redness_of_eyes',\n",
       " 'restlessness',\n",
       " 'runny_nose',\n",
       " 'rusty_sputum',\n",
       " 'scurring',\n",
       " 'shivering',\n",
       " 'silver_like_dusting',\n",
       " 'sinus_pressure',\n",
       " 'skin_peeling',\n",
       " 'skin_rash',\n",
       " 'slurred_speech',\n",
       " 'small_dents_in_nails',\n",
       " 'spinning_movements',\n",
       " 'spotting_ urination',\n",
       " 'stiff_neck',\n",
       " 'stomach_bleeding',\n",
       " 'stomach_pain',\n",
       " 'sunken_eyes',\n",
       " 'sweating',\n",
       " 'swelled_lymph_nodes',\n",
       " 'swelling_joints',\n",
       " 'swelling_of_stomach',\n",
       " 'swollen_blood_vessels',\n",
       " 'swollen_extremeties',\n",
       " 'swollen_legs',\n",
       " 'throat_irritation',\n",
       " 'toxic_look_(typhos)',\n",
       " 'ulcers_on_tongue',\n",
       " 'unsteadiness',\n",
       " 'visual_disturbances',\n",
       " 'vomiting',\n",
       " 'watering_from_eyes',\n",
       " 'weakness_in_limbs',\n",
       " 'weakness_of_one_body_side',\n",
       " 'weight_gain',\n",
       " 'weight_loss',\n",
       " 'yellow_crust_ooze',\n",
       " 'yellow_urine',\n",
       " 'yellowing_of_eyes',\n",
       " 'yellowish_skin'}"
      ]
     },
     "execution_count": 20,
     "metadata": {},
     "output_type": "execute_result"
    }
   ],
   "source": [
    "data = pd.read_csv(os.path.join(\"datasets\", \"disease symptom prediction\", \"dataset.csv\"))\n",
    "arr = data.to_numpy()\n",
    "\n",
    "allInflictions = set()\n",
    "for row in arr:\n",
    "    row = row[1:]\n",
    "    for item in row:\n",
    "        if type(item) is str and item not in allInflictions:\n",
    "            allInflictions.add(item.strip())\n",
    "\n",
    "allInflictions"
   ]
  },
  {
   "cell_type": "code",
   "execution_count": 21,
   "metadata": {},
   "outputs": [
    {
     "data": {
      "text/plain": [
       "{'yellowish_skin': 0,\n",
       " 'puffy_face_and_eyes': 1,\n",
       " 'history_of_alcohol_consumption': 2,\n",
       " 'dark_urine': 3,\n",
       " 'ulcers_on_tongue': 4,\n",
       " 'internal_itching': 5,\n",
       " 'pain_during_bowel_movements': 6,\n",
       " 'scurring': 7,\n",
       " 'distention_of_abdomen': 8,\n",
       " 'phlegm': 9,\n",
       " 'blood_in_sputum': 10,\n",
       " 'enlarged_thyroid': 11,\n",
       " 'muscle_weakness': 12,\n",
       " 'painful_walking': 13,\n",
       " 'weakness_in_limbs': 14,\n",
       " 'irritation_in_anus': 15,\n",
       " 'red_sore_around_nose': 16,\n",
       " 'stiff_neck': 17,\n",
       " 'continuous_sneezing': 18,\n",
       " 'burning_micturition': 19,\n",
       " 'swelling_of_stomach': 20,\n",
       " 'mood_swings': 21,\n",
       " 'loss_of_smell': 22,\n",
       " 'chills': 23,\n",
       " 'skin_peeling': 24,\n",
       " 'swollen_legs': 25,\n",
       " 'watering_from_eyes': 26,\n",
       " 'yellowing_of_eyes': 27,\n",
       " 'weight_gain': 28,\n",
       " 'silver_like_dusting': 29,\n",
       " 'throat_irritation': 30,\n",
       " 'rusty_sputum': 31,\n",
       " 'itching': 32,\n",
       " 'drying_and_tingling_lips': 33,\n",
       " 'restlessness': 34,\n",
       " 'sinus_pressure': 35,\n",
       " 'muscle_wasting': 36,\n",
       " 'visual_disturbances': 37,\n",
       " 'irregular_sugar_level': 38,\n",
       " 'obesity': 39,\n",
       " 'loss_of_appetite': 40,\n",
       " 'swelled_lymph_nodes': 41,\n",
       " 'dehydration': 42,\n",
       " 'headache': 43,\n",
       " 'acute_liver_failure': 44,\n",
       " 'patches_in_throat': 45,\n",
       " 'receiving_unsterile_injections': 46,\n",
       " 'knee_pain': 47,\n",
       " 'sweating': 48,\n",
       " 'unsteadiness': 49,\n",
       " 'stomach_pain': 50,\n",
       " 'excessive_hunger': 51,\n",
       " 'swollen_extremeties': 52,\n",
       " 'high_fever': 53,\n",
       " 'dizziness': 54,\n",
       " 'altered_sensorium': 55,\n",
       " 'blurred_and_distorted_vision': 56,\n",
       " 'polyuria': 57,\n",
       " 'back_pain': 58,\n",
       " 'loss_of_balance': 59,\n",
       " 'hip_joint_pain': 60,\n",
       " 'breathlessness': 61,\n",
       " 'toxic_look_(typhos)': 62,\n",
       " 'brittle_nails': 63,\n",
       " 'slurred_speech': 64,\n",
       " 'yellow_urine': 65,\n",
       " 'coma': 66,\n",
       " 'bloody_stool': 67,\n",
       " 'cough': 68,\n",
       " 'pain_behind_the_eyes': 69,\n",
       " 'blister': 70,\n",
       " 'lack_of_concentration': 71,\n",
       " 'neck_pain': 72,\n",
       " 'acidity': 73,\n",
       " 'cramps': 74,\n",
       " 'redness_of_eyes': 75,\n",
       " 'fatigue': 76,\n",
       " 'pus_filled_pimples': 77,\n",
       " 'shivering': 78,\n",
       " 'foul_smell_of urine': 79,\n",
       " 'chest_pain': 80,\n",
       " 'nodal_skin_eruptions': 81,\n",
       " 'receiving_blood_transfusion': 82,\n",
       " 'pain_in_anal_region': 83,\n",
       " 'dischromic _patches': 84,\n",
       " 'continuous_feel_of_urine': 85,\n",
       " 'family_history': 86,\n",
       " 'muscle_pain': 87,\n",
       " 'malaise': 88,\n",
       " 'stomach_bleeding': 89,\n",
       " 'lethargy': 90,\n",
       " 'indigestion': 91,\n",
       " 'depression': 92,\n",
       " 'swollen_blood_vessels': 93,\n",
       " 'palpitations': 94,\n",
       " 'small_dents_in_nails': 95,\n",
       " 'passage_of_gases': 96,\n",
       " 'extra_marital_contacts': 97,\n",
       " 'increased_appetite': 98,\n",
       " 'bladder_discomfort': 99,\n",
       " 'skin_rash': 100,\n",
       " 'anxiety': 101,\n",
       " 'constipation': 102,\n",
       " 'sunken_eyes': 103,\n",
       " 'runny_nose': 104,\n",
       " 'weight_loss': 105,\n",
       " 'inflammatory_nails': 106,\n",
       " 'vomiting': 107,\n",
       " 'abdominal_pain': 108,\n",
       " 'mild_fever': 109,\n",
       " 'belly_pain': 110,\n",
       " 'swelling_joints': 111,\n",
       " 'red_spots_over_body': 112,\n",
       " 'congestion': 113,\n",
       " 'joint_pain': 114,\n",
       " 'bruising': 115,\n",
       " 'fast_heart_rate': 116,\n",
       " 'movement_stiffness': 117,\n",
       " 'nausea': 118,\n",
       " 'prominent_veins_on_calf': 119,\n",
       " 'abnormal_menstruation': 120,\n",
       " 'weakness_of_one_body_side': 121,\n",
       " 'yellow_crust_ooze': 122,\n",
       " 'irritability': 123,\n",
       " 'cold_hands_and_feets': 124,\n",
       " 'spotting_ urination': 125,\n",
       " 'blackheads': 126,\n",
       " 'mucoid_sputum': 127,\n",
       " 'fluid_overload': 128,\n",
       " 'diarrhoea': 129,\n",
       " 'spinning_movements': 130}"
      ]
     },
     "execution_count": 21,
     "metadata": {},
     "output_type": "execute_result"
    }
   ],
   "source": [
    "counter = 0\n",
    "indexer = {}\n",
    "for item in allInflictions:\n",
    "    indexer[item] = counter\n",
    "    counter += 1\n",
    "\n",
    "indexer"
   ]
  },
  {
   "cell_type": "code",
   "execution_count": 101,
   "metadata": {},
   "outputs": [
    {
     "data": {
      "text/html": [
       "<div>\n",
       "<style scoped>\n",
       "    .dataframe tbody tr th:only-of-type {\n",
       "        vertical-align: middle;\n",
       "    }\n",
       "\n",
       "    .dataframe tbody tr th {\n",
       "        vertical-align: top;\n",
       "    }\n",
       "\n",
       "    .dataframe thead th {\n",
       "        text-align: right;\n",
       "    }\n",
       "</style>\n",
       "<table border=\"1\" class=\"dataframe\">\n",
       "  <thead>\n",
       "    <tr style=\"text-align: right;\">\n",
       "      <th></th>\n",
       "      <th>0</th>\n",
       "      <th>1</th>\n",
       "    </tr>\n",
       "  </thead>\n",
       "  <tbody>\n",
       "    <tr>\n",
       "      <th>0</th>\n",
       "      <td>[0, 0, 0, 0, 0, 0, 0, 0, 0, 0, 0, 0, 0, 0, 0, ...</td>\n",
       "      <td>Fungal infection</td>\n",
       "    </tr>\n",
       "    <tr>\n",
       "      <th>1</th>\n",
       "      <td>[0, 0, 0, 0, 0, 0, 0, 0, 0, 0, 0, 0, 0, 0, 0, ...</td>\n",
       "      <td>Fungal infection</td>\n",
       "    </tr>\n",
       "    <tr>\n",
       "      <th>2</th>\n",
       "      <td>[0, 0, 0, 0, 0, 0, 0, 0, 0, 0, 0, 0, 0, 0, 0, ...</td>\n",
       "      <td>Fungal infection</td>\n",
       "    </tr>\n",
       "    <tr>\n",
       "      <th>3</th>\n",
       "      <td>[0, 0, 0, 0, 0, 0, 0, 0, 0, 0, 0, 0, 0, 0, 0, ...</td>\n",
       "      <td>Fungal infection</td>\n",
       "    </tr>\n",
       "    <tr>\n",
       "      <th>4</th>\n",
       "      <td>[0, 0, 0, 0, 0, 0, 0, 0, 0, 0, 0, 0, 0, 0, 0, ...</td>\n",
       "      <td>Fungal infection</td>\n",
       "    </tr>\n",
       "    <tr>\n",
       "      <th>...</th>\n",
       "      <td>...</td>\n",
       "      <td>...</td>\n",
       "    </tr>\n",
       "    <tr>\n",
       "      <th>4915</th>\n",
       "      <td>[0, 0, 0, 0, 0, 0, 0, 0, 0, 0, 0, 0, 0, 0, 0, ...</td>\n",
       "      <td>(vertigo) Paroymsal  Positional Vertigo</td>\n",
       "    </tr>\n",
       "    <tr>\n",
       "      <th>4916</th>\n",
       "      <td>[0, 0, 0, 0, 0, 0, 0, 1, 0, 0, 0, 0, 0, 0, 0, ...</td>\n",
       "      <td>Acne</td>\n",
       "    </tr>\n",
       "    <tr>\n",
       "      <th>4917</th>\n",
       "      <td>[0, 0, 0, 0, 0, 0, 0, 0, 0, 0, 0, 0, 0, 0, 0, ...</td>\n",
       "      <td>Urinary tract infection</td>\n",
       "    </tr>\n",
       "    <tr>\n",
       "      <th>4918</th>\n",
       "      <td>[0, 0, 0, 0, 0, 0, 0, 0, 0, 0, 0, 0, 0, 0, 0, ...</td>\n",
       "      <td>Psoriasis</td>\n",
       "    </tr>\n",
       "    <tr>\n",
       "      <th>4919</th>\n",
       "      <td>[0, 0, 0, 0, 0, 0, 0, 0, 0, 0, 0, 0, 0, 0, 0, ...</td>\n",
       "      <td>Impetigo</td>\n",
       "    </tr>\n",
       "  </tbody>\n",
       "</table>\n",
       "<p>4920 rows × 2 columns</p>\n",
       "</div>"
      ],
      "text/plain": [
       "                                                      0   \n",
       "0     [0, 0, 0, 0, 0, 0, 0, 0, 0, 0, 0, 0, 0, 0, 0, ...  \\\n",
       "1     [0, 0, 0, 0, 0, 0, 0, 0, 0, 0, 0, 0, 0, 0, 0, ...   \n",
       "2     [0, 0, 0, 0, 0, 0, 0, 0, 0, 0, 0, 0, 0, 0, 0, ...   \n",
       "3     [0, 0, 0, 0, 0, 0, 0, 0, 0, 0, 0, 0, 0, 0, 0, ...   \n",
       "4     [0, 0, 0, 0, 0, 0, 0, 0, 0, 0, 0, 0, 0, 0, 0, ...   \n",
       "...                                                 ...   \n",
       "4915  [0, 0, 0, 0, 0, 0, 0, 0, 0, 0, 0, 0, 0, 0, 0, ...   \n",
       "4916  [0, 0, 0, 0, 0, 0, 0, 1, 0, 0, 0, 0, 0, 0, 0, ...   \n",
       "4917  [0, 0, 0, 0, 0, 0, 0, 0, 0, 0, 0, 0, 0, 0, 0, ...   \n",
       "4918  [0, 0, 0, 0, 0, 0, 0, 0, 0, 0, 0, 0, 0, 0, 0, ...   \n",
       "4919  [0, 0, 0, 0, 0, 0, 0, 0, 0, 0, 0, 0, 0, 0, 0, ...   \n",
       "\n",
       "                                            1  \n",
       "0                            Fungal infection  \n",
       "1                            Fungal infection  \n",
       "2                            Fungal infection  \n",
       "3                            Fungal infection  \n",
       "4                            Fungal infection  \n",
       "...                                       ...  \n",
       "4915  (vertigo) Paroymsal  Positional Vertigo  \n",
       "4916                                     Acne  \n",
       "4917                  Urinary tract infection  \n",
       "4918                                Psoriasis  \n",
       "4919                                 Impetigo  \n",
       "\n",
       "[4920 rows x 2 columns]"
      ]
     },
     "execution_count": 101,
     "metadata": {},
     "output_type": "execute_result"
    }
   ],
   "source": [
    "structured = [] # 2D array of data [[0s/1s], [diseasename]]\n",
    "for row in arr:\n",
    "    infliction = row[0].strip()\n",
    "    row = row[1:]\n",
    "    newRow = [0 for i in range(counter)]\n",
    "    for symptom in row:\n",
    "        if type(symptom) is str:\n",
    "            newRow[indexer[symptom.strip()]] = 1\n",
    "    structured.append([newRow, infliction])\n",
    "\n",
    "df = pd.DataFrame(structured)\n",
    "df"
   ]
  },
  {
   "cell_type": "code",
   "execution_count": 102,
   "metadata": {},
   "outputs": [],
   "source": [
    "ordered_list = sorted((value, key) for key, value in indexer.items())\n",
    "ordered_words_only = [item[1].strip() for item in ordered_list]"
   ]
  },
  {
   "cell_type": "code",
   "execution_count": 103,
   "metadata": {},
   "outputs": [
    {
     "data": {
      "text/plain": [
       "array([[list([0, 0, 0, 0, 0, 0, 0, 0, 0, 0, 0, 0, 0, 0, 0, 0, 0, 0, 0, 0, 0, 0, 0, 0, 0, 0, 0, 0, 0, 0, 0, 0, 1, 0, 0, 0, 0, 0, 0, 0, 0, 0, 0, 0, 0, 0, 0, 0, 0, 0, 0, 0, 0, 0, 0, 0, 0, 0, 0, 0, 0, 0, 0, 0, 0, 0, 0, 0, 0, 0, 0, 0, 0, 0, 0, 0, 0, 0, 0, 0, 0, 1, 0, 0, 1, 0, 0, 0, 0, 0, 0, 0, 0, 0, 0, 0, 0, 0, 0, 0, 1, 0, 0, 0, 0, 0, 0, 0, 0, 0, 0, 0, 0, 0, 0, 0, 0, 0, 0, 0, 0, 0, 0, 0, 0, 0, 0, 0, 0, 0, 0]),\n",
       "        27],\n",
       "       [list([0, 0, 0, 0, 0, 0, 0, 0, 0, 0, 0, 0, 0, 0, 0, 0, 0, 0, 0, 0, 0, 0, 0, 0, 0, 0, 0, 0, 0, 0, 0, 0, 0, 0, 0, 0, 0, 0, 0, 0, 0, 0, 0, 0, 0, 0, 0, 0, 0, 0, 0, 0, 0, 0, 0, 0, 0, 0, 0, 0, 0, 0, 0, 0, 0, 0, 0, 0, 0, 0, 0, 0, 0, 0, 0, 0, 0, 0, 0, 0, 0, 1, 0, 0, 1, 0, 0, 0, 0, 0, 0, 0, 0, 0, 0, 0, 0, 0, 0, 0, 1, 0, 0, 0, 0, 0, 0, 0, 0, 0, 0, 0, 0, 0, 0, 0, 0, 0, 0, 0, 0, 0, 0, 0, 0, 0, 0, 0, 0, 0, 0]),\n",
       "        27],\n",
       "       [list([0, 0, 0, 0, 0, 0, 0, 0, 0, 0, 0, 0, 0, 0, 0, 0, 0, 0, 0, 0, 0, 0, 0, 0, 0, 0, 0, 0, 0, 0, 0, 0, 1, 0, 0, 0, 0, 0, 0, 0, 0, 0, 0, 0, 0, 0, 0, 0, 0, 0, 0, 0, 0, 0, 0, 0, 0, 0, 0, 0, 0, 0, 0, 0, 0, 0, 0, 0, 0, 0, 0, 0, 0, 0, 0, 0, 0, 0, 0, 0, 0, 1, 0, 0, 1, 0, 0, 0, 0, 0, 0, 0, 0, 0, 0, 0, 0, 0, 0, 0, 0, 0, 0, 0, 0, 0, 0, 0, 0, 0, 0, 0, 0, 0, 0, 0, 0, 0, 0, 0, 0, 0, 0, 0, 0, 0, 0, 0, 0, 0, 0]),\n",
       "        27],\n",
       "       ...,\n",
       "       [list([0, 0, 0, 0, 0, 0, 0, 0, 0, 0, 0, 0, 0, 0, 0, 0, 0, 0, 0, 1, 0, 0, 0, 0, 0, 0, 0, 0, 0, 0, 0, 0, 0, 0, 0, 0, 0, 0, 0, 0, 0, 0, 0, 0, 0, 0, 0, 0, 0, 0, 0, 0, 0, 0, 0, 0, 0, 0, 0, 0, 0, 0, 0, 0, 0, 0, 0, 0, 0, 0, 0, 0, 0, 0, 0, 0, 0, 0, 0, 1, 0, 0, 0, 0, 0, 1, 0, 0, 0, 0, 0, 0, 0, 0, 0, 0, 0, 0, 0, 1, 0, 0, 0, 0, 0, 0, 0, 0, 0, 0, 0, 0, 0, 0, 0, 0, 0, 0, 0, 0, 0, 0, 0, 0, 0, 0, 0, 0, 0, 0, 0]),\n",
       "        21],\n",
       "       [list([0, 0, 0, 0, 0, 0, 0, 0, 0, 0, 0, 0, 0, 0, 0, 0, 0, 0, 0, 0, 0, 0, 0, 0, 1, 0, 0, 0, 0, 1, 0, 0, 0, 0, 0, 0, 0, 0, 0, 0, 0, 0, 0, 0, 0, 0, 0, 0, 0, 0, 0, 0, 0, 0, 0, 0, 0, 0, 0, 0, 0, 0, 0, 0, 0, 0, 0, 0, 0, 0, 0, 0, 0, 0, 0, 0, 0, 0, 0, 0, 0, 0, 0, 0, 0, 0, 0, 0, 0, 0, 0, 0, 0, 0, 0, 1, 0, 0, 0, 0, 1, 0, 0, 0, 0, 0, 1, 0, 0, 0, 0, 0, 0, 0, 1, 0, 0, 0, 0, 0, 0, 0, 0, 0, 0, 0, 0, 0, 0, 0, 0]),\n",
       "        4],\n",
       "       [list([0, 0, 0, 0, 0, 0, 0, 0, 0, 0, 0, 0, 0, 0, 0, 0, 1, 0, 0, 0, 0, 0, 0, 0, 0, 0, 0, 0, 0, 0, 0, 0, 0, 0, 0, 0, 0, 0, 0, 0, 0, 0, 0, 0, 0, 0, 0, 0, 0, 0, 0, 0, 0, 1, 0, 0, 0, 0, 0, 0, 0, 0, 0, 0, 0, 0, 0, 0, 0, 0, 1, 0, 0, 0, 0, 0, 0, 0, 0, 0, 0, 0, 0, 0, 0, 0, 0, 0, 0, 0, 0, 0, 0, 0, 0, 0, 0, 0, 0, 0, 1, 0, 0, 0, 0, 0, 0, 0, 0, 0, 0, 0, 0, 0, 0, 0, 0, 0, 0, 0, 0, 0, 1, 0, 0, 0, 0, 0, 0, 0, 0]),\n",
       "        13]], dtype=object)"
      ]
     },
     "execution_count": 103,
     "metadata": {},
     "output_type": "execute_result"
    }
   ],
   "source": [
    "learning_data = df.to_numpy()\n",
    "\n",
    "unique_int_to_illness = {k: v for k, v in enumerate(symptom_desc.to_numpy()[:, 0])}\n",
    "illness_to_unique_int = {v: k for k, v in unique_int_to_illness.items()}\n",
    "map_values = np.vectorize(lambda x : illness_to_unique_int[x])\n",
    "\n",
    "learning_data[:, 1] = map_values(learning_data[:, 1])\n",
    "learning_data"
   ]
  },
  {
   "cell_type": "code",
   "execution_count": 104,
   "metadata": {},
   "outputs": [],
   "source": [
    "X = list(learning_data[:, 0])\n",
    "Y = list(learning_data[:, 1])"
   ]
  },
  {
   "cell_type": "code",
   "execution_count": 172,
   "metadata": {},
   "outputs": [],
   "source": [
    "# Algorithm to produce random training/test splits on learning data\n",
    "from random import shuffle\n",
    "shuffle(learning_data)\n",
    "Xtrain = list(learning_data[:3000, 0])\n",
    "Ytrain = list(learning_data[:3000, 1])\n",
    "Xtest = list(learning_data[3000:, 0])\n",
    "Ytest = list(learning_data[3000:, 1])"
   ]
  },
  {
   "cell_type": "code",
   "execution_count": 201,
   "metadata": {},
   "outputs": [],
   "source": [
    "# Or use all of data for training\n",
    "Xtrain = X\n",
    "Ytrain = Y"
   ]
  },
  {
   "cell_type": "code",
   "execution_count": 202,
   "metadata": {},
   "outputs": [],
   "source": [
    "from sklearn.linear_model import LogisticRegression\n",
    "from sklearn.tree import DecisionTreeClassifier\n",
    "\n",
    "logistic_classifier = LogisticRegression().fit(Xtrain, Ytrain)\n",
    "decisiontree_classifier = DecisionTreeClassifier().fit(Xtrain, Ytrain)"
   ]
  },
  {
   "cell_type": "code",
   "execution_count": 174,
   "metadata": {},
   "outputs": [
    {
     "name": "stdout",
     "output_type": "stream",
     "text": [
      "Training error rate: 0.0      \n",
      "Validation error rate: 0.004687499999999956\n"
     ]
    }
   ],
   "source": [
    "from sklearn.metrics import zero_one_loss\n",
    "print(f\"Training error rate: {zero_one_loss(Ytrain, logistic_classifier.predict(Xtrain))}\\\n",
    "      \\nValidation error rate: {zero_one_loss(Ytest, logistic_classifier.predict(Xtest))}\")"
   ]
  },
  {
   "cell_type": "code",
   "execution_count": 175,
   "metadata": {},
   "outputs": [
    {
     "name": "stdout",
     "output_type": "stream",
     "text": [
      "Training error rate: 0.0      \n",
      "Validation error rate: 0.004166666666666652\n"
     ]
    }
   ],
   "source": [
    "print(f\"Training error rate: {zero_one_loss(Ytrain, decisiontree_classifier.predict(Xtrain))}\\\n",
    "      \\nValidation error rate: {zero_one_loss(Ytest, decisiontree_classifier.predict(Xtest))}\")"
   ]
  },
  {
   "cell_type": "code",
   "execution_count": 203,
   "metadata": {},
   "outputs": [
    {
     "name": "stdout",
     "output_type": "stream",
     "text": [
      "Training error rate: 0.0      \n",
      "Validation error rate: 0.0\n"
     ]
    }
   ],
   "source": [
    "from sklearn.ensemble import RandomForestClassifier\n",
    "\n",
    "randomforest_classifier = RandomForestClassifier().fit(Xtrain, Ytrain)\n",
    "print(f\"Training error rate: {zero_one_loss(Ytrain, randomforest_classifier.predict(Xtrain))}\\\n",
    "      \\nValidation error rate: {zero_one_loss(Ytest, randomforest_classifier.predict(Xtest))}\")"
   ]
  },
  {
   "cell_type": "code",
   "execution_count": 212,
   "metadata": {},
   "outputs": [
    {
     "data": {
      "application/vnd.jupyter.widget-view+json": {
       "model_id": "378c4f7caff548c08a5e5bd79e5191cc",
       "version_major": 2,
       "version_minor": 0
      },
      "text/plain": [
       "Checkbox(value=False, description='yellowish_skin')"
      ]
     },
     "metadata": {},
     "output_type": "display_data"
    },
    {
     "data": {
      "application/vnd.jupyter.widget-view+json": {
       "model_id": "1dffa45ec4404ad49deb9a2dcf9ceec2",
       "version_major": 2,
       "version_minor": 0
      },
      "text/plain": [
       "Checkbox(value=False, description='puffy_face_and_eyes')"
      ]
     },
     "metadata": {},
     "output_type": "display_data"
    },
    {
     "data": {
      "application/vnd.jupyter.widget-view+json": {
       "model_id": "c2a81a687abe476fb0b6208f1fd20b96",
       "version_major": 2,
       "version_minor": 0
      },
      "text/plain": [
       "Checkbox(value=False, description='history_of_alcohol_consumption')"
      ]
     },
     "metadata": {},
     "output_type": "display_data"
    },
    {
     "data": {
      "application/vnd.jupyter.widget-view+json": {
       "model_id": "b2c1835d1c404da7b69d28161c848bae",
       "version_major": 2,
       "version_minor": 0
      },
      "text/plain": [
       "Checkbox(value=False, description='dark_urine')"
      ]
     },
     "metadata": {},
     "output_type": "display_data"
    },
    {
     "data": {
      "application/vnd.jupyter.widget-view+json": {
       "model_id": "4beb80f2603e4318b5441b18bbb0b99b",
       "version_major": 2,
       "version_minor": 0
      },
      "text/plain": [
       "Checkbox(value=False, description='ulcers_on_tongue')"
      ]
     },
     "metadata": {},
     "output_type": "display_data"
    },
    {
     "data": {
      "application/vnd.jupyter.widget-view+json": {
       "model_id": "0e28683fc2cc4ab3a3062b64b71dc26d",
       "version_major": 2,
       "version_minor": 0
      },
      "text/plain": [
       "Checkbox(value=False, description='internal_itching')"
      ]
     },
     "metadata": {},
     "output_type": "display_data"
    },
    {
     "data": {
      "application/vnd.jupyter.widget-view+json": {
       "model_id": "c7e92ec2c8464f6ebf310099e18b35e4",
       "version_major": 2,
       "version_minor": 0
      },
      "text/plain": [
       "Checkbox(value=False, description='pain_during_bowel_movements')"
      ]
     },
     "metadata": {},
     "output_type": "display_data"
    },
    {
     "data": {
      "application/vnd.jupyter.widget-view+json": {
       "model_id": "a2b00af51bf54e25aedaa5b283e69f9a",
       "version_major": 2,
       "version_minor": 0
      },
      "text/plain": [
       "Checkbox(value=False, description='scurring')"
      ]
     },
     "metadata": {},
     "output_type": "display_data"
    },
    {
     "data": {
      "application/vnd.jupyter.widget-view+json": {
       "model_id": "992ac139ac2f4889a9aedddaf7c4214e",
       "version_major": 2,
       "version_minor": 0
      },
      "text/plain": [
       "Checkbox(value=False, description='distention_of_abdomen')"
      ]
     },
     "metadata": {},
     "output_type": "display_data"
    },
    {
     "data": {
      "application/vnd.jupyter.widget-view+json": {
       "model_id": "39a0be8d8c894b3680785efd58b0b8f9",
       "version_major": 2,
       "version_minor": 0
      },
      "text/plain": [
       "Checkbox(value=False, description='phlegm')"
      ]
     },
     "metadata": {},
     "output_type": "display_data"
    },
    {
     "data": {
      "application/vnd.jupyter.widget-view+json": {
       "model_id": "fc917fd5280b4a178e956ebc60a678e2",
       "version_major": 2,
       "version_minor": 0
      },
      "text/plain": [
       "Checkbox(value=False, description='blood_in_sputum')"
      ]
     },
     "metadata": {},
     "output_type": "display_data"
    },
    {
     "data": {
      "application/vnd.jupyter.widget-view+json": {
       "model_id": "7fbdedbec2ff4e0f9411d4c4a6838367",
       "version_major": 2,
       "version_minor": 0
      },
      "text/plain": [
       "Checkbox(value=False, description='enlarged_thyroid')"
      ]
     },
     "metadata": {},
     "output_type": "display_data"
    },
    {
     "data": {
      "application/vnd.jupyter.widget-view+json": {
       "model_id": "9e7872f4cedc462a8dfa32f73f86ff8d",
       "version_major": 2,
       "version_minor": 0
      },
      "text/plain": [
       "Checkbox(value=False, description='muscle_weakness')"
      ]
     },
     "metadata": {},
     "output_type": "display_data"
    },
    {
     "data": {
      "application/vnd.jupyter.widget-view+json": {
       "model_id": "bd1304b7dfe54c9ba191bba841f00a95",
       "version_major": 2,
       "version_minor": 0
      },
      "text/plain": [
       "Checkbox(value=False, description='painful_walking')"
      ]
     },
     "metadata": {},
     "output_type": "display_data"
    },
    {
     "data": {
      "application/vnd.jupyter.widget-view+json": {
       "model_id": "a8d14f931ba540edb04b0ea23631fa0c",
       "version_major": 2,
       "version_minor": 0
      },
      "text/plain": [
       "Checkbox(value=False, description='weakness_in_limbs')"
      ]
     },
     "metadata": {},
     "output_type": "display_data"
    },
    {
     "data": {
      "application/vnd.jupyter.widget-view+json": {
       "model_id": "5eb05431ec304be281724fc7cb9f2a6c",
       "version_major": 2,
       "version_minor": 0
      },
      "text/plain": [
       "Checkbox(value=False, description='irritation_in_anus')"
      ]
     },
     "metadata": {},
     "output_type": "display_data"
    },
    {
     "data": {
      "application/vnd.jupyter.widget-view+json": {
       "model_id": "195342d975344add96e096719d2fc415",
       "version_major": 2,
       "version_minor": 0
      },
      "text/plain": [
       "Checkbox(value=False, description='red_sore_around_nose')"
      ]
     },
     "metadata": {},
     "output_type": "display_data"
    },
    {
     "data": {
      "application/vnd.jupyter.widget-view+json": {
       "model_id": "9c82b1f7f8ca4bf5a94332f0631aa84e",
       "version_major": 2,
       "version_minor": 0
      },
      "text/plain": [
       "Checkbox(value=False, description='stiff_neck')"
      ]
     },
     "metadata": {},
     "output_type": "display_data"
    },
    {
     "data": {
      "application/vnd.jupyter.widget-view+json": {
       "model_id": "0fc9e4813d3349cc885e29c52868e7b0",
       "version_major": 2,
       "version_minor": 0
      },
      "text/plain": [
       "Checkbox(value=False, description='continuous_sneezing')"
      ]
     },
     "metadata": {},
     "output_type": "display_data"
    },
    {
     "data": {
      "application/vnd.jupyter.widget-view+json": {
       "model_id": "3715e8d1a1604013a6b4a5e1f423a895",
       "version_major": 2,
       "version_minor": 0
      },
      "text/plain": [
       "Checkbox(value=False, description='burning_micturition')"
      ]
     },
     "metadata": {},
     "output_type": "display_data"
    },
    {
     "data": {
      "application/vnd.jupyter.widget-view+json": {
       "model_id": "7e1ddf9f467e4e03ae6606e545f61fc1",
       "version_major": 2,
       "version_minor": 0
      },
      "text/plain": [
       "Checkbox(value=False, description='swelling_of_stomach')"
      ]
     },
     "metadata": {},
     "output_type": "display_data"
    },
    {
     "data": {
      "application/vnd.jupyter.widget-view+json": {
       "model_id": "8015c6d9c83846daa3368943c2327d54",
       "version_major": 2,
       "version_minor": 0
      },
      "text/plain": [
       "Checkbox(value=False, description='mood_swings')"
      ]
     },
     "metadata": {},
     "output_type": "display_data"
    },
    {
     "data": {
      "application/vnd.jupyter.widget-view+json": {
       "model_id": "50b88b960f914367ad170977be2d6c7e",
       "version_major": 2,
       "version_minor": 0
      },
      "text/plain": [
       "Checkbox(value=False, description='loss_of_smell')"
      ]
     },
     "metadata": {},
     "output_type": "display_data"
    },
    {
     "data": {
      "application/vnd.jupyter.widget-view+json": {
       "model_id": "41493f7030cb4c7d96ba702808eaa3eb",
       "version_major": 2,
       "version_minor": 0
      },
      "text/plain": [
       "Checkbox(value=False, description='chills')"
      ]
     },
     "metadata": {},
     "output_type": "display_data"
    },
    {
     "data": {
      "application/vnd.jupyter.widget-view+json": {
       "model_id": "06df62659a09448ebb4d52b248707ce3",
       "version_major": 2,
       "version_minor": 0
      },
      "text/plain": [
       "Checkbox(value=False, description='skin_peeling')"
      ]
     },
     "metadata": {},
     "output_type": "display_data"
    },
    {
     "data": {
      "application/vnd.jupyter.widget-view+json": {
       "model_id": "c273fb89da394bf8ac6e01d57d90ddaa",
       "version_major": 2,
       "version_minor": 0
      },
      "text/plain": [
       "Checkbox(value=False, description='swollen_legs')"
      ]
     },
     "metadata": {},
     "output_type": "display_data"
    },
    {
     "data": {
      "application/vnd.jupyter.widget-view+json": {
       "model_id": "761e69389cb7496f9567c4cab897de9f",
       "version_major": 2,
       "version_minor": 0
      },
      "text/plain": [
       "Checkbox(value=False, description='watering_from_eyes')"
      ]
     },
     "metadata": {},
     "output_type": "display_data"
    },
    {
     "data": {
      "application/vnd.jupyter.widget-view+json": {
       "model_id": "101951ca184e4a798234721cd6387b84",
       "version_major": 2,
       "version_minor": 0
      },
      "text/plain": [
       "Checkbox(value=False, description='yellowing_of_eyes')"
      ]
     },
     "metadata": {},
     "output_type": "display_data"
    },
    {
     "data": {
      "application/vnd.jupyter.widget-view+json": {
       "model_id": "7d8b53db1b674490b035f2cc442f18ab",
       "version_major": 2,
       "version_minor": 0
      },
      "text/plain": [
       "Checkbox(value=False, description='weight_gain')"
      ]
     },
     "metadata": {},
     "output_type": "display_data"
    },
    {
     "data": {
      "application/vnd.jupyter.widget-view+json": {
       "model_id": "47bb80b2639941998c0b7f0328a51ab8",
       "version_major": 2,
       "version_minor": 0
      },
      "text/plain": [
       "Checkbox(value=False, description='silver_like_dusting')"
      ]
     },
     "metadata": {},
     "output_type": "display_data"
    },
    {
     "data": {
      "application/vnd.jupyter.widget-view+json": {
       "model_id": "1f35164950684120810ecc1617be7db0",
       "version_major": 2,
       "version_minor": 0
      },
      "text/plain": [
       "Checkbox(value=False, description='throat_irritation')"
      ]
     },
     "metadata": {},
     "output_type": "display_data"
    },
    {
     "data": {
      "application/vnd.jupyter.widget-view+json": {
       "model_id": "387143afa7bc4f2da85d30675b24ae3f",
       "version_major": 2,
       "version_minor": 0
      },
      "text/plain": [
       "Checkbox(value=False, description='rusty_sputum')"
      ]
     },
     "metadata": {},
     "output_type": "display_data"
    },
    {
     "data": {
      "application/vnd.jupyter.widget-view+json": {
       "model_id": "cc69d67f194043b2a016272eb2b9a5ae",
       "version_major": 2,
       "version_minor": 0
      },
      "text/plain": [
       "Checkbox(value=False, description='itching')"
      ]
     },
     "metadata": {},
     "output_type": "display_data"
    },
    {
     "data": {
      "application/vnd.jupyter.widget-view+json": {
       "model_id": "0543c99ce7ae4580903b5fef22f0e179",
       "version_major": 2,
       "version_minor": 0
      },
      "text/plain": [
       "Checkbox(value=False, description='drying_and_tingling_lips')"
      ]
     },
     "metadata": {},
     "output_type": "display_data"
    },
    {
     "data": {
      "application/vnd.jupyter.widget-view+json": {
       "model_id": "4df821d2661f40f2824bbf9e0db56512",
       "version_major": 2,
       "version_minor": 0
      },
      "text/plain": [
       "Checkbox(value=False, description='restlessness')"
      ]
     },
     "metadata": {},
     "output_type": "display_data"
    },
    {
     "data": {
      "application/vnd.jupyter.widget-view+json": {
       "model_id": "264bd13d71524d03ab7a5fc4ddfca65e",
       "version_major": 2,
       "version_minor": 0
      },
      "text/plain": [
       "Checkbox(value=False, description='sinus_pressure')"
      ]
     },
     "metadata": {},
     "output_type": "display_data"
    },
    {
     "data": {
      "application/vnd.jupyter.widget-view+json": {
       "model_id": "49d32096e9f94636839ca7f5b3d7a30c",
       "version_major": 2,
       "version_minor": 0
      },
      "text/plain": [
       "Checkbox(value=False, description='muscle_wasting')"
      ]
     },
     "metadata": {},
     "output_type": "display_data"
    },
    {
     "data": {
      "application/vnd.jupyter.widget-view+json": {
       "model_id": "cc91dd69c33c44b5ac739943c2a74eb4",
       "version_major": 2,
       "version_minor": 0
      },
      "text/plain": [
       "Checkbox(value=False, description='visual_disturbances')"
      ]
     },
     "metadata": {},
     "output_type": "display_data"
    },
    {
     "data": {
      "application/vnd.jupyter.widget-view+json": {
       "model_id": "14a483a1a9ca42f1a14bef907c4f4169",
       "version_major": 2,
       "version_minor": 0
      },
      "text/plain": [
       "Checkbox(value=False, description='irregular_sugar_level')"
      ]
     },
     "metadata": {},
     "output_type": "display_data"
    },
    {
     "data": {
      "application/vnd.jupyter.widget-view+json": {
       "model_id": "f6af315420c74a928e84b7fa0aee93fc",
       "version_major": 2,
       "version_minor": 0
      },
      "text/plain": [
       "Checkbox(value=False, description='obesity')"
      ]
     },
     "metadata": {},
     "output_type": "display_data"
    },
    {
     "data": {
      "application/vnd.jupyter.widget-view+json": {
       "model_id": "a165323334304f68988dbc143df05c7b",
       "version_major": 2,
       "version_minor": 0
      },
      "text/plain": [
       "Checkbox(value=False, description='loss_of_appetite')"
      ]
     },
     "metadata": {},
     "output_type": "display_data"
    },
    {
     "data": {
      "application/vnd.jupyter.widget-view+json": {
       "model_id": "183d2fa6b93144c99f9da65738a67860",
       "version_major": 2,
       "version_minor": 0
      },
      "text/plain": [
       "Checkbox(value=False, description='swelled_lymph_nodes')"
      ]
     },
     "metadata": {},
     "output_type": "display_data"
    },
    {
     "data": {
      "application/vnd.jupyter.widget-view+json": {
       "model_id": "77969a9f0c2840018497f05a699034e3",
       "version_major": 2,
       "version_minor": 0
      },
      "text/plain": [
       "Checkbox(value=False, description='dehydration')"
      ]
     },
     "metadata": {},
     "output_type": "display_data"
    },
    {
     "data": {
      "application/vnd.jupyter.widget-view+json": {
       "model_id": "95933e54e5e2499b8861505600a46e79",
       "version_major": 2,
       "version_minor": 0
      },
      "text/plain": [
       "Checkbox(value=False, description='headache')"
      ]
     },
     "metadata": {},
     "output_type": "display_data"
    },
    {
     "data": {
      "application/vnd.jupyter.widget-view+json": {
       "model_id": "9c8650d3781c4907bd6c0d7c9386bbc3",
       "version_major": 2,
       "version_minor": 0
      },
      "text/plain": [
       "Checkbox(value=False, description='acute_liver_failure')"
      ]
     },
     "metadata": {},
     "output_type": "display_data"
    },
    {
     "data": {
      "application/vnd.jupyter.widget-view+json": {
       "model_id": "c4d739dc73254af287e5ea9e74af5f0e",
       "version_major": 2,
       "version_minor": 0
      },
      "text/plain": [
       "Checkbox(value=False, description='patches_in_throat')"
      ]
     },
     "metadata": {},
     "output_type": "display_data"
    },
    {
     "data": {
      "application/vnd.jupyter.widget-view+json": {
       "model_id": "532353f004cc4c6bb693bd6ff53ea353",
       "version_major": 2,
       "version_minor": 0
      },
      "text/plain": [
       "Checkbox(value=False, description='receiving_unsterile_injections')"
      ]
     },
     "metadata": {},
     "output_type": "display_data"
    },
    {
     "data": {
      "application/vnd.jupyter.widget-view+json": {
       "model_id": "5c3e246ce044403996cf7bab5d53a035",
       "version_major": 2,
       "version_minor": 0
      },
      "text/plain": [
       "Checkbox(value=False, description='knee_pain')"
      ]
     },
     "metadata": {},
     "output_type": "display_data"
    },
    {
     "data": {
      "application/vnd.jupyter.widget-view+json": {
       "model_id": "f6f30616805c4729832e7f591a82d5e4",
       "version_major": 2,
       "version_minor": 0
      },
      "text/plain": [
       "Checkbox(value=False, description='sweating')"
      ]
     },
     "metadata": {},
     "output_type": "display_data"
    },
    {
     "data": {
      "application/vnd.jupyter.widget-view+json": {
       "model_id": "66beae9453554b359a7d412b83fe1955",
       "version_major": 2,
       "version_minor": 0
      },
      "text/plain": [
       "Checkbox(value=False, description='unsteadiness')"
      ]
     },
     "metadata": {},
     "output_type": "display_data"
    },
    {
     "data": {
      "application/vnd.jupyter.widget-view+json": {
       "model_id": "58d0092697dc491dbff19bf7a0726e4c",
       "version_major": 2,
       "version_minor": 0
      },
      "text/plain": [
       "Checkbox(value=False, description='stomach_pain')"
      ]
     },
     "metadata": {},
     "output_type": "display_data"
    },
    {
     "data": {
      "application/vnd.jupyter.widget-view+json": {
       "model_id": "05e2782956824286beab7f649b39a8af",
       "version_major": 2,
       "version_minor": 0
      },
      "text/plain": [
       "Checkbox(value=False, description='excessive_hunger')"
      ]
     },
     "metadata": {},
     "output_type": "display_data"
    },
    {
     "data": {
      "application/vnd.jupyter.widget-view+json": {
       "model_id": "9f110598767943c7bae882c677610de7",
       "version_major": 2,
       "version_minor": 0
      },
      "text/plain": [
       "Checkbox(value=False, description='swollen_extremeties')"
      ]
     },
     "metadata": {},
     "output_type": "display_data"
    },
    {
     "data": {
      "application/vnd.jupyter.widget-view+json": {
       "model_id": "ef8134fbe7244e0494a659365fe79a6e",
       "version_major": 2,
       "version_minor": 0
      },
      "text/plain": [
       "Checkbox(value=False, description='high_fever')"
      ]
     },
     "metadata": {},
     "output_type": "display_data"
    },
    {
     "data": {
      "application/vnd.jupyter.widget-view+json": {
       "model_id": "cb48c5c88457441689ea10371621b226",
       "version_major": 2,
       "version_minor": 0
      },
      "text/plain": [
       "Checkbox(value=False, description='dizziness')"
      ]
     },
     "metadata": {},
     "output_type": "display_data"
    },
    {
     "data": {
      "application/vnd.jupyter.widget-view+json": {
       "model_id": "e2caae4739784005b7b166d4346efb78",
       "version_major": 2,
       "version_minor": 0
      },
      "text/plain": [
       "Checkbox(value=False, description='altered_sensorium')"
      ]
     },
     "metadata": {},
     "output_type": "display_data"
    },
    {
     "data": {
      "application/vnd.jupyter.widget-view+json": {
       "model_id": "5e7295984e95459994b4f2a68dd80ade",
       "version_major": 2,
       "version_minor": 0
      },
      "text/plain": [
       "Checkbox(value=False, description='blurred_and_distorted_vision')"
      ]
     },
     "metadata": {},
     "output_type": "display_data"
    },
    {
     "data": {
      "application/vnd.jupyter.widget-view+json": {
       "model_id": "55872b573ef644e3b61387bd347c2db7",
       "version_major": 2,
       "version_minor": 0
      },
      "text/plain": [
       "Checkbox(value=False, description='polyuria')"
      ]
     },
     "metadata": {},
     "output_type": "display_data"
    },
    {
     "data": {
      "application/vnd.jupyter.widget-view+json": {
       "model_id": "235a998e2ff34df6b9794804870cd456",
       "version_major": 2,
       "version_minor": 0
      },
      "text/plain": [
       "Checkbox(value=False, description='back_pain')"
      ]
     },
     "metadata": {},
     "output_type": "display_data"
    },
    {
     "data": {
      "application/vnd.jupyter.widget-view+json": {
       "model_id": "ff965391b56c42c29f3c9329c95e15d9",
       "version_major": 2,
       "version_minor": 0
      },
      "text/plain": [
       "Checkbox(value=False, description='loss_of_balance')"
      ]
     },
     "metadata": {},
     "output_type": "display_data"
    },
    {
     "data": {
      "application/vnd.jupyter.widget-view+json": {
       "model_id": "2865631eaff345838f2ff7182ec2bc7b",
       "version_major": 2,
       "version_minor": 0
      },
      "text/plain": [
       "Checkbox(value=False, description='hip_joint_pain')"
      ]
     },
     "metadata": {},
     "output_type": "display_data"
    },
    {
     "data": {
      "application/vnd.jupyter.widget-view+json": {
       "model_id": "acd115cd21ce4f3db16ec34026e6555b",
       "version_major": 2,
       "version_minor": 0
      },
      "text/plain": [
       "Checkbox(value=False, description='breathlessness')"
      ]
     },
     "metadata": {},
     "output_type": "display_data"
    },
    {
     "data": {
      "application/vnd.jupyter.widget-view+json": {
       "model_id": "fc5de68318cd4aa89a174e9b92cc548c",
       "version_major": 2,
       "version_minor": 0
      },
      "text/plain": [
       "Checkbox(value=False, description='toxic_look_(typhos)')"
      ]
     },
     "metadata": {},
     "output_type": "display_data"
    },
    {
     "data": {
      "application/vnd.jupyter.widget-view+json": {
       "model_id": "673bb8f229f449eb9953b9536c95be0a",
       "version_major": 2,
       "version_minor": 0
      },
      "text/plain": [
       "Checkbox(value=False, description='brittle_nails')"
      ]
     },
     "metadata": {},
     "output_type": "display_data"
    },
    {
     "data": {
      "application/vnd.jupyter.widget-view+json": {
       "model_id": "31eb505b207d4ecc837bda4a0a8187a1",
       "version_major": 2,
       "version_minor": 0
      },
      "text/plain": [
       "Checkbox(value=False, description='slurred_speech')"
      ]
     },
     "metadata": {},
     "output_type": "display_data"
    },
    {
     "data": {
      "application/vnd.jupyter.widget-view+json": {
       "model_id": "231d3880a1c34a63995ab5ccfb093592",
       "version_major": 2,
       "version_minor": 0
      },
      "text/plain": [
       "Checkbox(value=False, description='yellow_urine')"
      ]
     },
     "metadata": {},
     "output_type": "display_data"
    },
    {
     "data": {
      "application/vnd.jupyter.widget-view+json": {
       "model_id": "94ebbea96a064334bdffaccdd4d07db1",
       "version_major": 2,
       "version_minor": 0
      },
      "text/plain": [
       "Checkbox(value=False, description='coma')"
      ]
     },
     "metadata": {},
     "output_type": "display_data"
    },
    {
     "data": {
      "application/vnd.jupyter.widget-view+json": {
       "model_id": "1ae243ac41d848aebfd22bb96bfcc551",
       "version_major": 2,
       "version_minor": 0
      },
      "text/plain": [
       "Checkbox(value=False, description='bloody_stool')"
      ]
     },
     "metadata": {},
     "output_type": "display_data"
    },
    {
     "data": {
      "application/vnd.jupyter.widget-view+json": {
       "model_id": "59dd317999574a3696afcdf25f17655d",
       "version_major": 2,
       "version_minor": 0
      },
      "text/plain": [
       "Checkbox(value=False, description='cough')"
      ]
     },
     "metadata": {},
     "output_type": "display_data"
    },
    {
     "data": {
      "application/vnd.jupyter.widget-view+json": {
       "model_id": "13c08c4a8d2544e8a34b459d7167eb53",
       "version_major": 2,
       "version_minor": 0
      },
      "text/plain": [
       "Checkbox(value=False, description='pain_behind_the_eyes')"
      ]
     },
     "metadata": {},
     "output_type": "display_data"
    },
    {
     "data": {
      "application/vnd.jupyter.widget-view+json": {
       "model_id": "edb5af03fbba4188b783e5819fbd5953",
       "version_major": 2,
       "version_minor": 0
      },
      "text/plain": [
       "Checkbox(value=False, description='blister')"
      ]
     },
     "metadata": {},
     "output_type": "display_data"
    },
    {
     "data": {
      "application/vnd.jupyter.widget-view+json": {
       "model_id": "841a8f695d05412ab8ffb22836b41edf",
       "version_major": 2,
       "version_minor": 0
      },
      "text/plain": [
       "Checkbox(value=False, description='lack_of_concentration')"
      ]
     },
     "metadata": {},
     "output_type": "display_data"
    },
    {
     "data": {
      "application/vnd.jupyter.widget-view+json": {
       "model_id": "5036addff2c94577944474f5d3af1f49",
       "version_major": 2,
       "version_minor": 0
      },
      "text/plain": [
       "Checkbox(value=False, description='neck_pain')"
      ]
     },
     "metadata": {},
     "output_type": "display_data"
    },
    {
     "data": {
      "application/vnd.jupyter.widget-view+json": {
       "model_id": "729b4e451bfa45fa9d82500d247c58fe",
       "version_major": 2,
       "version_minor": 0
      },
      "text/plain": [
       "Checkbox(value=False, description='acidity')"
      ]
     },
     "metadata": {},
     "output_type": "display_data"
    },
    {
     "data": {
      "application/vnd.jupyter.widget-view+json": {
       "model_id": "bbbb16d694534f17baa0a55caaca8ef0",
       "version_major": 2,
       "version_minor": 0
      },
      "text/plain": [
       "Checkbox(value=False, description='cramps')"
      ]
     },
     "metadata": {},
     "output_type": "display_data"
    },
    {
     "data": {
      "application/vnd.jupyter.widget-view+json": {
       "model_id": "4f18c0e3d2b04698ac0f8e6b37359807",
       "version_major": 2,
       "version_minor": 0
      },
      "text/plain": [
       "Checkbox(value=False, description='redness_of_eyes')"
      ]
     },
     "metadata": {},
     "output_type": "display_data"
    },
    {
     "data": {
      "application/vnd.jupyter.widget-view+json": {
       "model_id": "936166b483c04c908f8581bac8811773",
       "version_major": 2,
       "version_minor": 0
      },
      "text/plain": [
       "Checkbox(value=False, description='fatigue')"
      ]
     },
     "metadata": {},
     "output_type": "display_data"
    },
    {
     "data": {
      "application/vnd.jupyter.widget-view+json": {
       "model_id": "c81164dd4d17493083c7a5f6a5ff846d",
       "version_major": 2,
       "version_minor": 0
      },
      "text/plain": [
       "Checkbox(value=False, description='pus_filled_pimples')"
      ]
     },
     "metadata": {},
     "output_type": "display_data"
    },
    {
     "data": {
      "application/vnd.jupyter.widget-view+json": {
       "model_id": "4c1f243519914117a930b6703e0c2b7b",
       "version_major": 2,
       "version_minor": 0
      },
      "text/plain": [
       "Checkbox(value=False, description='shivering')"
      ]
     },
     "metadata": {},
     "output_type": "display_data"
    },
    {
     "data": {
      "application/vnd.jupyter.widget-view+json": {
       "model_id": "00d1204cb0d44894887b3d0005222718",
       "version_major": 2,
       "version_minor": 0
      },
      "text/plain": [
       "Checkbox(value=False, description='foul_smell_of urine')"
      ]
     },
     "metadata": {},
     "output_type": "display_data"
    },
    {
     "data": {
      "application/vnd.jupyter.widget-view+json": {
       "model_id": "e019c6c91cba4cd4b749f5c49e58eb09",
       "version_major": 2,
       "version_minor": 0
      },
      "text/plain": [
       "Checkbox(value=False, description='chest_pain')"
      ]
     },
     "metadata": {},
     "output_type": "display_data"
    },
    {
     "data": {
      "application/vnd.jupyter.widget-view+json": {
       "model_id": "ca735ab9b83747f3b61d3b9fcb56b98a",
       "version_major": 2,
       "version_minor": 0
      },
      "text/plain": [
       "Checkbox(value=False, description='nodal_skin_eruptions')"
      ]
     },
     "metadata": {},
     "output_type": "display_data"
    },
    {
     "data": {
      "application/vnd.jupyter.widget-view+json": {
       "model_id": "caf831dc40604d869fc6f46a90596c22",
       "version_major": 2,
       "version_minor": 0
      },
      "text/plain": [
       "Checkbox(value=False, description='receiving_blood_transfusion')"
      ]
     },
     "metadata": {},
     "output_type": "display_data"
    },
    {
     "data": {
      "application/vnd.jupyter.widget-view+json": {
       "model_id": "8e48f83f5dff4a0fb650f7daac57dcfb",
       "version_major": 2,
       "version_minor": 0
      },
      "text/plain": [
       "Checkbox(value=False, description='pain_in_anal_region')"
      ]
     },
     "metadata": {},
     "output_type": "display_data"
    },
    {
     "data": {
      "application/vnd.jupyter.widget-view+json": {
       "model_id": "d8fd16e9ebcf4abda9da91de1633e690",
       "version_major": 2,
       "version_minor": 0
      },
      "text/plain": [
       "Checkbox(value=False, description='dischromic _patches')"
      ]
     },
     "metadata": {},
     "output_type": "display_data"
    },
    {
     "data": {
      "application/vnd.jupyter.widget-view+json": {
       "model_id": "2dcd0be763d545afa397cce2e3bb128f",
       "version_major": 2,
       "version_minor": 0
      },
      "text/plain": [
       "Checkbox(value=False, description='continuous_feel_of_urine')"
      ]
     },
     "metadata": {},
     "output_type": "display_data"
    },
    {
     "data": {
      "application/vnd.jupyter.widget-view+json": {
       "model_id": "be994fa5446440749a1878de163f9884",
       "version_major": 2,
       "version_minor": 0
      },
      "text/plain": [
       "Checkbox(value=False, description='family_history')"
      ]
     },
     "metadata": {},
     "output_type": "display_data"
    },
    {
     "data": {
      "application/vnd.jupyter.widget-view+json": {
       "model_id": "8962cf1c0e954272a01dff1612683563",
       "version_major": 2,
       "version_minor": 0
      },
      "text/plain": [
       "Checkbox(value=False, description='muscle_pain')"
      ]
     },
     "metadata": {},
     "output_type": "display_data"
    },
    {
     "data": {
      "application/vnd.jupyter.widget-view+json": {
       "model_id": "072771f47cbc4fc183e2847101323c4b",
       "version_major": 2,
       "version_minor": 0
      },
      "text/plain": [
       "Checkbox(value=False, description='malaise')"
      ]
     },
     "metadata": {},
     "output_type": "display_data"
    },
    {
     "data": {
      "application/vnd.jupyter.widget-view+json": {
       "model_id": "48884ff9eda14379859426596cdcef02",
       "version_major": 2,
       "version_minor": 0
      },
      "text/plain": [
       "Checkbox(value=False, description='stomach_bleeding')"
      ]
     },
     "metadata": {},
     "output_type": "display_data"
    },
    {
     "data": {
      "application/vnd.jupyter.widget-view+json": {
       "model_id": "f3a58f40a54b49ee98b7dbae9eac843c",
       "version_major": 2,
       "version_minor": 0
      },
      "text/plain": [
       "Checkbox(value=False, description='lethargy')"
      ]
     },
     "metadata": {},
     "output_type": "display_data"
    },
    {
     "data": {
      "application/vnd.jupyter.widget-view+json": {
       "model_id": "7894758d4f8549e19f48715e4a920512",
       "version_major": 2,
       "version_minor": 0
      },
      "text/plain": [
       "Checkbox(value=False, description='indigestion')"
      ]
     },
     "metadata": {},
     "output_type": "display_data"
    },
    {
     "data": {
      "application/vnd.jupyter.widget-view+json": {
       "model_id": "33819f746f8a46f8a0433704a12e9702",
       "version_major": 2,
       "version_minor": 0
      },
      "text/plain": [
       "Checkbox(value=False, description='depression')"
      ]
     },
     "metadata": {},
     "output_type": "display_data"
    },
    {
     "data": {
      "application/vnd.jupyter.widget-view+json": {
       "model_id": "f29f3ea382084fbaa27b02e529453c8c",
       "version_major": 2,
       "version_minor": 0
      },
      "text/plain": [
       "Checkbox(value=False, description='swollen_blood_vessels')"
      ]
     },
     "metadata": {},
     "output_type": "display_data"
    },
    {
     "data": {
      "application/vnd.jupyter.widget-view+json": {
       "model_id": "549150f37846466daca2b868cc48227e",
       "version_major": 2,
       "version_minor": 0
      },
      "text/plain": [
       "Checkbox(value=False, description='palpitations')"
      ]
     },
     "metadata": {},
     "output_type": "display_data"
    },
    {
     "data": {
      "application/vnd.jupyter.widget-view+json": {
       "model_id": "0afbf2bb9d6a47d8ae5122815c5f2071",
       "version_major": 2,
       "version_minor": 0
      },
      "text/plain": [
       "Checkbox(value=False, description='small_dents_in_nails')"
      ]
     },
     "metadata": {},
     "output_type": "display_data"
    },
    {
     "data": {
      "application/vnd.jupyter.widget-view+json": {
       "model_id": "5a4d1b72e2794f22a33aa8e703136b3e",
       "version_major": 2,
       "version_minor": 0
      },
      "text/plain": [
       "Checkbox(value=False, description='passage_of_gases')"
      ]
     },
     "metadata": {},
     "output_type": "display_data"
    },
    {
     "data": {
      "application/vnd.jupyter.widget-view+json": {
       "model_id": "a1cbd32458624c72b25bb05e7658917c",
       "version_major": 2,
       "version_minor": 0
      },
      "text/plain": [
       "Checkbox(value=False, description='extra_marital_contacts')"
      ]
     },
     "metadata": {},
     "output_type": "display_data"
    },
    {
     "data": {
      "application/vnd.jupyter.widget-view+json": {
       "model_id": "71789649babc431dbb2dbd37597058c3",
       "version_major": 2,
       "version_minor": 0
      },
      "text/plain": [
       "Checkbox(value=False, description='increased_appetite')"
      ]
     },
     "metadata": {},
     "output_type": "display_data"
    },
    {
     "data": {
      "application/vnd.jupyter.widget-view+json": {
       "model_id": "d35e2d1055a0450eac5ccb030dd8f87e",
       "version_major": 2,
       "version_minor": 0
      },
      "text/plain": [
       "Checkbox(value=False, description='bladder_discomfort')"
      ]
     },
     "metadata": {},
     "output_type": "display_data"
    },
    {
     "data": {
      "application/vnd.jupyter.widget-view+json": {
       "model_id": "73dbf441dcea48e8a7cdf57ec8d687ba",
       "version_major": 2,
       "version_minor": 0
      },
      "text/plain": [
       "Checkbox(value=False, description='skin_rash')"
      ]
     },
     "metadata": {},
     "output_type": "display_data"
    },
    {
     "data": {
      "application/vnd.jupyter.widget-view+json": {
       "model_id": "22f802e4993b41ef942ccb34e56ce399",
       "version_major": 2,
       "version_minor": 0
      },
      "text/plain": [
       "Checkbox(value=False, description='anxiety')"
      ]
     },
     "metadata": {},
     "output_type": "display_data"
    },
    {
     "data": {
      "application/vnd.jupyter.widget-view+json": {
       "model_id": "7314d9303e0c4aaea42318b45d0ff51a",
       "version_major": 2,
       "version_minor": 0
      },
      "text/plain": [
       "Checkbox(value=False, description='constipation')"
      ]
     },
     "metadata": {},
     "output_type": "display_data"
    },
    {
     "data": {
      "application/vnd.jupyter.widget-view+json": {
       "model_id": "16acf580e11f45888153282a3c791cce",
       "version_major": 2,
       "version_minor": 0
      },
      "text/plain": [
       "Checkbox(value=False, description='sunken_eyes')"
      ]
     },
     "metadata": {},
     "output_type": "display_data"
    },
    {
     "data": {
      "application/vnd.jupyter.widget-view+json": {
       "model_id": "1d29adaec7a3428ca7b466f058fd825e",
       "version_major": 2,
       "version_minor": 0
      },
      "text/plain": [
       "Checkbox(value=False, description='runny_nose')"
      ]
     },
     "metadata": {},
     "output_type": "display_data"
    },
    {
     "data": {
      "application/vnd.jupyter.widget-view+json": {
       "model_id": "ec4b93262d2a47adb52d27bb0ed0ec0e",
       "version_major": 2,
       "version_minor": 0
      },
      "text/plain": [
       "Checkbox(value=False, description='weight_loss')"
      ]
     },
     "metadata": {},
     "output_type": "display_data"
    },
    {
     "data": {
      "application/vnd.jupyter.widget-view+json": {
       "model_id": "b56ec83f9db2486cb493ead362662820",
       "version_major": 2,
       "version_minor": 0
      },
      "text/plain": [
       "Checkbox(value=False, description='inflammatory_nails')"
      ]
     },
     "metadata": {},
     "output_type": "display_data"
    },
    {
     "data": {
      "application/vnd.jupyter.widget-view+json": {
       "model_id": "b50723bd180c46878864469a8fc16913",
       "version_major": 2,
       "version_minor": 0
      },
      "text/plain": [
       "Checkbox(value=False, description='vomiting')"
      ]
     },
     "metadata": {},
     "output_type": "display_data"
    },
    {
     "data": {
      "application/vnd.jupyter.widget-view+json": {
       "model_id": "b2bf7013fcf746ed9e75140ee8f643c6",
       "version_major": 2,
       "version_minor": 0
      },
      "text/plain": [
       "Checkbox(value=False, description='abdominal_pain')"
      ]
     },
     "metadata": {},
     "output_type": "display_data"
    },
    {
     "data": {
      "application/vnd.jupyter.widget-view+json": {
       "model_id": "8247a2b0f8e4479b89ff8a2688b191dd",
       "version_major": 2,
       "version_minor": 0
      },
      "text/plain": [
       "Checkbox(value=False, description='mild_fever')"
      ]
     },
     "metadata": {},
     "output_type": "display_data"
    },
    {
     "data": {
      "application/vnd.jupyter.widget-view+json": {
       "model_id": "eac9861b50f048d9bcf07e922103eaac",
       "version_major": 2,
       "version_minor": 0
      },
      "text/plain": [
       "Checkbox(value=False, description='belly_pain')"
      ]
     },
     "metadata": {},
     "output_type": "display_data"
    },
    {
     "data": {
      "application/vnd.jupyter.widget-view+json": {
       "model_id": "2cc3e190fb6e48fc8c1aec3e54dd6075",
       "version_major": 2,
       "version_minor": 0
      },
      "text/plain": [
       "Checkbox(value=False, description='swelling_joints')"
      ]
     },
     "metadata": {},
     "output_type": "display_data"
    },
    {
     "data": {
      "application/vnd.jupyter.widget-view+json": {
       "model_id": "72a877740b9c459ca5e2977f9845e784",
       "version_major": 2,
       "version_minor": 0
      },
      "text/plain": [
       "Checkbox(value=False, description='red_spots_over_body')"
      ]
     },
     "metadata": {},
     "output_type": "display_data"
    },
    {
     "data": {
      "application/vnd.jupyter.widget-view+json": {
       "model_id": "6e1be6e1ebe447eba49ae3d0a5c99058",
       "version_major": 2,
       "version_minor": 0
      },
      "text/plain": [
       "Checkbox(value=False, description='congestion')"
      ]
     },
     "metadata": {},
     "output_type": "display_data"
    },
    {
     "data": {
      "application/vnd.jupyter.widget-view+json": {
       "model_id": "12a5e79ffb4a41c19f0557366306ce52",
       "version_major": 2,
       "version_minor": 0
      },
      "text/plain": [
       "Checkbox(value=False, description='joint_pain')"
      ]
     },
     "metadata": {},
     "output_type": "display_data"
    },
    {
     "data": {
      "application/vnd.jupyter.widget-view+json": {
       "model_id": "8fbc18b10a83426fb6d7200436bd3b21",
       "version_major": 2,
       "version_minor": 0
      },
      "text/plain": [
       "Checkbox(value=False, description='bruising')"
      ]
     },
     "metadata": {},
     "output_type": "display_data"
    },
    {
     "data": {
      "application/vnd.jupyter.widget-view+json": {
       "model_id": "b73602cbbf3b49fbb5e7051b3ae219bd",
       "version_major": 2,
       "version_minor": 0
      },
      "text/plain": [
       "Checkbox(value=False, description='fast_heart_rate')"
      ]
     },
     "metadata": {},
     "output_type": "display_data"
    },
    {
     "data": {
      "application/vnd.jupyter.widget-view+json": {
       "model_id": "8dc5568242dc478ba737080f255d95bc",
       "version_major": 2,
       "version_minor": 0
      },
      "text/plain": [
       "Checkbox(value=False, description='movement_stiffness')"
      ]
     },
     "metadata": {},
     "output_type": "display_data"
    },
    {
     "data": {
      "application/vnd.jupyter.widget-view+json": {
       "model_id": "4fbef5254a4f40d9be2fae06e328cae7",
       "version_major": 2,
       "version_minor": 0
      },
      "text/plain": [
       "Checkbox(value=False, description='nausea')"
      ]
     },
     "metadata": {},
     "output_type": "display_data"
    },
    {
     "data": {
      "application/vnd.jupyter.widget-view+json": {
       "model_id": "d68d30ef073f455291cab317bbd38416",
       "version_major": 2,
       "version_minor": 0
      },
      "text/plain": [
       "Checkbox(value=False, description='prominent_veins_on_calf')"
      ]
     },
     "metadata": {},
     "output_type": "display_data"
    },
    {
     "data": {
      "application/vnd.jupyter.widget-view+json": {
       "model_id": "c98916f403f54244bb77c30bad65972b",
       "version_major": 2,
       "version_minor": 0
      },
      "text/plain": [
       "Checkbox(value=False, description='abnormal_menstruation')"
      ]
     },
     "metadata": {},
     "output_type": "display_data"
    },
    {
     "data": {
      "application/vnd.jupyter.widget-view+json": {
       "model_id": "8a0258ca2c0e4664b37b44378cbcd323",
       "version_major": 2,
       "version_minor": 0
      },
      "text/plain": [
       "Checkbox(value=False, description='weakness_of_one_body_side')"
      ]
     },
     "metadata": {},
     "output_type": "display_data"
    },
    {
     "data": {
      "application/vnd.jupyter.widget-view+json": {
       "model_id": "9153dee622644df3af501499c1d517e2",
       "version_major": 2,
       "version_minor": 0
      },
      "text/plain": [
       "Checkbox(value=False, description='yellow_crust_ooze')"
      ]
     },
     "metadata": {},
     "output_type": "display_data"
    },
    {
     "data": {
      "application/vnd.jupyter.widget-view+json": {
       "model_id": "0f0479670b734ffbb4110016afa628fc",
       "version_major": 2,
       "version_minor": 0
      },
      "text/plain": [
       "Checkbox(value=False, description='irritability')"
      ]
     },
     "metadata": {},
     "output_type": "display_data"
    },
    {
     "data": {
      "application/vnd.jupyter.widget-view+json": {
       "model_id": "98284b178abd443ca30e1832dea9f18d",
       "version_major": 2,
       "version_minor": 0
      },
      "text/plain": [
       "Checkbox(value=False, description='cold_hands_and_feets')"
      ]
     },
     "metadata": {},
     "output_type": "display_data"
    },
    {
     "data": {
      "application/vnd.jupyter.widget-view+json": {
       "model_id": "32632ba4dd7f445e98b6ee5f905eff2b",
       "version_major": 2,
       "version_minor": 0
      },
      "text/plain": [
       "Checkbox(value=False, description='spotting_ urination')"
      ]
     },
     "metadata": {},
     "output_type": "display_data"
    },
    {
     "data": {
      "application/vnd.jupyter.widget-view+json": {
       "model_id": "0895561ea6f14a928f40158bc6f37822",
       "version_major": 2,
       "version_minor": 0
      },
      "text/plain": [
       "Checkbox(value=False, description='blackheads')"
      ]
     },
     "metadata": {},
     "output_type": "display_data"
    },
    {
     "data": {
      "application/vnd.jupyter.widget-view+json": {
       "model_id": "5745485db0f94467bfd4e3ebd5403cf3",
       "version_major": 2,
       "version_minor": 0
      },
      "text/plain": [
       "Checkbox(value=False, description='mucoid_sputum')"
      ]
     },
     "metadata": {},
     "output_type": "display_data"
    },
    {
     "data": {
      "application/vnd.jupyter.widget-view+json": {
       "model_id": "7426171b6bee4019a26416203d21ce38",
       "version_major": 2,
       "version_minor": 0
      },
      "text/plain": [
       "Checkbox(value=False, description='fluid_overload')"
      ]
     },
     "metadata": {},
     "output_type": "display_data"
    },
    {
     "data": {
      "application/vnd.jupyter.widget-view+json": {
       "model_id": "8eb9772155824cd59c3e0151d003ae7d",
       "version_major": 2,
       "version_minor": 0
      },
      "text/plain": [
       "Checkbox(value=False, description='diarrhoea')"
      ]
     },
     "metadata": {},
     "output_type": "display_data"
    },
    {
     "data": {
      "application/vnd.jupyter.widget-view+json": {
       "model_id": "25a42b0a6f2f4eda9faa05ddf147d57c",
       "version_major": 2,
       "version_minor": 0
      },
      "text/plain": [
       "Checkbox(value=False, description='spinning_movements')"
      ]
     },
     "metadata": {},
     "output_type": "display_data"
    }
   ],
   "source": [
    "# Manual testing\n",
    "input_symptoms = [0] * len(indexer)\n",
    "\n",
    "import ipywidgets as widgets\n",
    "from IPython.display import display\n",
    "\n",
    "checkbox_indexer = {k: False for k in indexer.keys()}\n",
    "\n",
    "# Create and display checkboxes for each key in the dictionary\n",
    "checkboxes = {}\n",
    "for key, value in checkbox_indexer.items():\n",
    "    checkboxes[key] = widgets.Checkbox(value=value, description=key)\n",
    "    display(checkboxes[key])\n",
    "\n",
    "# Function to handle checkbox value changes\n",
    "def on_checkbox_change(change):\n",
    "    checkbox = change['owner']\n",
    "    key = checkbox.description\n",
    "    checkbox_value = change['new']\n",
    "    # print(f\"{key} is {'checked' if checkbox_value else 'unchecked'}\")\n",
    "    input_symptoms[indexer[key]] = 1 if checkbox_value else 0\n",
    "\n",
    "# Attach the function to each checkbox's value change event\n",
    "for key, checkbox in checkboxes.items():\n",
    "    checkbox.observe(on_checkbox_change, names='value')"
   ]
  },
  {
   "cell_type": "code",
   "execution_count": 245,
   "metadata": {},
   "outputs": [
    {
     "name": "stdout",
     "output_type": "stream",
     "text": [
      "LogisticRegression: Allergy\n",
      "An allergy is an immune system response to a foreign substance that's not typically harmful to your body.They can include certain foods, pollen, or pet dander. Your immune system's job is to keep you healthy by fighting harmful pathogens.\n",
      "Precautions to take:\n",
      "\t- apply calamine\n",
      "\t- cover area with bandage\n",
      "\t- use ice to compress itching\n",
      "\n",
      "\n",
      "DecisionTreeClassifier: Gastroenteritis\n",
      "Gastroenteritis is an inflammation of the digestive tract, particularly the stomach, and large and small intestines. Viral and bacterial gastroenteritis are intestinal infections associated with symptoms of diarrhea , abdominal cramps, nausea , and vomiting .\n",
      "Precautions to take:\n",
      "\t- stop eating solid food for while\n",
      "\t- try taking small sips of water\n",
      "\t- rest\n",
      "\t- ease back into eating\n",
      "\n",
      "\n",
      "RandomForestClassifier: Arthritis\n",
      "Arthritis is the swelling and tenderness of one or more of your joints. The main symptoms of arthritis are joint pain and stiffness, which typically worsen with age. The most common types of arthritis are osteoarthritis and rheumatoid arthritis.\n",
      "Precautions to take:\n",
      "\t- exercise\n",
      "\t- use hot and cold therapy\n",
      "\t- try acupuncture\n",
      "\t- massage\n",
      "\n",
      "\n"
     ]
    }
   ],
   "source": [
    "for classifier in [logistic_classifier, decisiontree_classifier, randomforest_classifier]:\n",
    "    pred = unique_int_to_illness[classifier.predict([input_symptoms])[0]]\n",
    "    print(f\"{type(classifier).__name__}: {pred}\")\n",
    "    print(symptom_desc[pred])\n",
    "    print(\"Precautions to take:\")\n",
    "    for prec in symptom_precaution[pred]:\n",
    "        # check for nan value\n",
    "        if prec == prec:\n",
    "            print(f\"\\t- {prec}\")\n",
    "    print(\"\\n\")"
   ]
  }
 ],
 "metadata": {
  "kernelspec": {
   "display_name": "Python 3",
   "language": "python",
   "name": "python3"
  },
  "language_info": {
   "codemirror_mode": {
    "name": "ipython",
    "version": 3
   },
   "file_extension": ".py",
   "mimetype": "text/x-python",
   "name": "python",
   "nbconvert_exporter": "python",
   "pygments_lexer": "ipython3",
   "version": "3.11.1"
  }
 },
 "nbformat": 4,
 "nbformat_minor": 2
}
