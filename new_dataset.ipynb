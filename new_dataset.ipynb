{
 "cells": [
  {
   "cell_type": "code",
   "execution_count": 15,
   "metadata": {},
   "outputs": [],
   "source": [
    "import numpy as np\n",
    "import pandas as pd\n",
    "import os\n",
    "\n",
    "data = pd.read_csv(os.path.join(\"datasets\", \"disease symptom prediction\", \"dataset.csv\"))"
   ]
  },
  {
   "cell_type": "code",
   "execution_count": 16,
   "metadata": {},
   "outputs": [
    {
     "data": {
      "text/plain": "                                      Disease             Symptom_1  \\\n0                            Fungal infection               itching   \n1                            Fungal infection             skin_rash   \n2                            Fungal infection               itching   \n3                            Fungal infection               itching   \n4                            Fungal infection               itching   \n...                                       ...                   ...   \n4915  (vertigo) Paroymsal  Positional Vertigo              vomiting   \n4916                                     Acne             skin_rash   \n4917                  Urinary tract infection   burning_micturition   \n4918                                Psoriasis             skin_rash   \n4919                                 Impetigo             skin_rash   \n\n                  Symptom_2              Symptom_3                  Symptom_4  \\\n0                 skin_rash   nodal_skin_eruptions        dischromic _patches   \n1      nodal_skin_eruptions    dischromic _patches                        NaN   \n2      nodal_skin_eruptions    dischromic _patches                        NaN   \n3                 skin_rash    dischromic _patches                        NaN   \n4                 skin_rash   nodal_skin_eruptions                        NaN   \n...                     ...                    ...                        ...   \n4915               headache                 nausea         spinning_movements   \n4916     pus_filled_pimples             blackheads                   scurring   \n4917     bladder_discomfort    foul_smell_of urine   continuous_feel_of_urine   \n4918             joint_pain           skin_peeling        silver_like_dusting   \n4919             high_fever                blister       red_sore_around_nose   \n\n                  Symptom_5            Symptom_6 Symptom_7 Symptom_8  \\\n0                       NaN                  NaN       NaN       NaN   \n1                       NaN                  NaN       NaN       NaN   \n2                       NaN                  NaN       NaN       NaN   \n3                       NaN                  NaN       NaN       NaN   \n4                       NaN                  NaN       NaN       NaN   \n...                     ...                  ...       ...       ...   \n4915        loss_of_balance         unsteadiness       NaN       NaN   \n4916                    NaN                  NaN       NaN       NaN   \n4917                    NaN                  NaN       NaN       NaN   \n4918   small_dents_in_nails   inflammatory_nails       NaN       NaN   \n4919      yellow_crust_ooze                  NaN       NaN       NaN   \n\n     Symptom_9 Symptom_10 Symptom_11 Symptom_12 Symptom_13 Symptom_14  \\\n0          NaN        NaN        NaN        NaN        NaN        NaN   \n1          NaN        NaN        NaN        NaN        NaN        NaN   \n2          NaN        NaN        NaN        NaN        NaN        NaN   \n3          NaN        NaN        NaN        NaN        NaN        NaN   \n4          NaN        NaN        NaN        NaN        NaN        NaN   \n...        ...        ...        ...        ...        ...        ...   \n4915       NaN        NaN        NaN        NaN        NaN        NaN   \n4916       NaN        NaN        NaN        NaN        NaN        NaN   \n4917       NaN        NaN        NaN        NaN        NaN        NaN   \n4918       NaN        NaN        NaN        NaN        NaN        NaN   \n4919       NaN        NaN        NaN        NaN        NaN        NaN   \n\n     Symptom_15 Symptom_16 Symptom_17  \n0           NaN        NaN        NaN  \n1           NaN        NaN        NaN  \n2           NaN        NaN        NaN  \n3           NaN        NaN        NaN  \n4           NaN        NaN        NaN  \n...         ...        ...        ...  \n4915        NaN        NaN        NaN  \n4916        NaN        NaN        NaN  \n4917        NaN        NaN        NaN  \n4918        NaN        NaN        NaN  \n4919        NaN        NaN        NaN  \n\n[4920 rows x 18 columns]",
      "text/html": "<div>\n<style scoped>\n    .dataframe tbody tr th:only-of-type {\n        vertical-align: middle;\n    }\n\n    .dataframe tbody tr th {\n        vertical-align: top;\n    }\n\n    .dataframe thead th {\n        text-align: right;\n    }\n</style>\n<table border=\"1\" class=\"dataframe\">\n  <thead>\n    <tr style=\"text-align: right;\">\n      <th></th>\n      <th>Disease</th>\n      <th>Symptom_1</th>\n      <th>Symptom_2</th>\n      <th>Symptom_3</th>\n      <th>Symptom_4</th>\n      <th>Symptom_5</th>\n      <th>Symptom_6</th>\n      <th>Symptom_7</th>\n      <th>Symptom_8</th>\n      <th>Symptom_9</th>\n      <th>Symptom_10</th>\n      <th>Symptom_11</th>\n      <th>Symptom_12</th>\n      <th>Symptom_13</th>\n      <th>Symptom_14</th>\n      <th>Symptom_15</th>\n      <th>Symptom_16</th>\n      <th>Symptom_17</th>\n    </tr>\n  </thead>\n  <tbody>\n    <tr>\n      <th>0</th>\n      <td>Fungal infection</td>\n      <td>itching</td>\n      <td>skin_rash</td>\n      <td>nodal_skin_eruptions</td>\n      <td>dischromic _patches</td>\n      <td>NaN</td>\n      <td>NaN</td>\n      <td>NaN</td>\n      <td>NaN</td>\n      <td>NaN</td>\n      <td>NaN</td>\n      <td>NaN</td>\n      <td>NaN</td>\n      <td>NaN</td>\n      <td>NaN</td>\n      <td>NaN</td>\n      <td>NaN</td>\n      <td>NaN</td>\n    </tr>\n    <tr>\n      <th>1</th>\n      <td>Fungal infection</td>\n      <td>skin_rash</td>\n      <td>nodal_skin_eruptions</td>\n      <td>dischromic _patches</td>\n      <td>NaN</td>\n      <td>NaN</td>\n      <td>NaN</td>\n      <td>NaN</td>\n      <td>NaN</td>\n      <td>NaN</td>\n      <td>NaN</td>\n      <td>NaN</td>\n      <td>NaN</td>\n      <td>NaN</td>\n      <td>NaN</td>\n      <td>NaN</td>\n      <td>NaN</td>\n      <td>NaN</td>\n    </tr>\n    <tr>\n      <th>2</th>\n      <td>Fungal infection</td>\n      <td>itching</td>\n      <td>nodal_skin_eruptions</td>\n      <td>dischromic _patches</td>\n      <td>NaN</td>\n      <td>NaN</td>\n      <td>NaN</td>\n      <td>NaN</td>\n      <td>NaN</td>\n      <td>NaN</td>\n      <td>NaN</td>\n      <td>NaN</td>\n      <td>NaN</td>\n      <td>NaN</td>\n      <td>NaN</td>\n      <td>NaN</td>\n      <td>NaN</td>\n      <td>NaN</td>\n    </tr>\n    <tr>\n      <th>3</th>\n      <td>Fungal infection</td>\n      <td>itching</td>\n      <td>skin_rash</td>\n      <td>dischromic _patches</td>\n      <td>NaN</td>\n      <td>NaN</td>\n      <td>NaN</td>\n      <td>NaN</td>\n      <td>NaN</td>\n      <td>NaN</td>\n      <td>NaN</td>\n      <td>NaN</td>\n      <td>NaN</td>\n      <td>NaN</td>\n      <td>NaN</td>\n      <td>NaN</td>\n      <td>NaN</td>\n      <td>NaN</td>\n    </tr>\n    <tr>\n      <th>4</th>\n      <td>Fungal infection</td>\n      <td>itching</td>\n      <td>skin_rash</td>\n      <td>nodal_skin_eruptions</td>\n      <td>NaN</td>\n      <td>NaN</td>\n      <td>NaN</td>\n      <td>NaN</td>\n      <td>NaN</td>\n      <td>NaN</td>\n      <td>NaN</td>\n      <td>NaN</td>\n      <td>NaN</td>\n      <td>NaN</td>\n      <td>NaN</td>\n      <td>NaN</td>\n      <td>NaN</td>\n      <td>NaN</td>\n    </tr>\n    <tr>\n      <th>...</th>\n      <td>...</td>\n      <td>...</td>\n      <td>...</td>\n      <td>...</td>\n      <td>...</td>\n      <td>...</td>\n      <td>...</td>\n      <td>...</td>\n      <td>...</td>\n      <td>...</td>\n      <td>...</td>\n      <td>...</td>\n      <td>...</td>\n      <td>...</td>\n      <td>...</td>\n      <td>...</td>\n      <td>...</td>\n      <td>...</td>\n    </tr>\n    <tr>\n      <th>4915</th>\n      <td>(vertigo) Paroymsal  Positional Vertigo</td>\n      <td>vomiting</td>\n      <td>headache</td>\n      <td>nausea</td>\n      <td>spinning_movements</td>\n      <td>loss_of_balance</td>\n      <td>unsteadiness</td>\n      <td>NaN</td>\n      <td>NaN</td>\n      <td>NaN</td>\n      <td>NaN</td>\n      <td>NaN</td>\n      <td>NaN</td>\n      <td>NaN</td>\n      <td>NaN</td>\n      <td>NaN</td>\n      <td>NaN</td>\n      <td>NaN</td>\n    </tr>\n    <tr>\n      <th>4916</th>\n      <td>Acne</td>\n      <td>skin_rash</td>\n      <td>pus_filled_pimples</td>\n      <td>blackheads</td>\n      <td>scurring</td>\n      <td>NaN</td>\n      <td>NaN</td>\n      <td>NaN</td>\n      <td>NaN</td>\n      <td>NaN</td>\n      <td>NaN</td>\n      <td>NaN</td>\n      <td>NaN</td>\n      <td>NaN</td>\n      <td>NaN</td>\n      <td>NaN</td>\n      <td>NaN</td>\n      <td>NaN</td>\n    </tr>\n    <tr>\n      <th>4917</th>\n      <td>Urinary tract infection</td>\n      <td>burning_micturition</td>\n      <td>bladder_discomfort</td>\n      <td>foul_smell_of urine</td>\n      <td>continuous_feel_of_urine</td>\n      <td>NaN</td>\n      <td>NaN</td>\n      <td>NaN</td>\n      <td>NaN</td>\n      <td>NaN</td>\n      <td>NaN</td>\n      <td>NaN</td>\n      <td>NaN</td>\n      <td>NaN</td>\n      <td>NaN</td>\n      <td>NaN</td>\n      <td>NaN</td>\n      <td>NaN</td>\n    </tr>\n    <tr>\n      <th>4918</th>\n      <td>Psoriasis</td>\n      <td>skin_rash</td>\n      <td>joint_pain</td>\n      <td>skin_peeling</td>\n      <td>silver_like_dusting</td>\n      <td>small_dents_in_nails</td>\n      <td>inflammatory_nails</td>\n      <td>NaN</td>\n      <td>NaN</td>\n      <td>NaN</td>\n      <td>NaN</td>\n      <td>NaN</td>\n      <td>NaN</td>\n      <td>NaN</td>\n      <td>NaN</td>\n      <td>NaN</td>\n      <td>NaN</td>\n      <td>NaN</td>\n    </tr>\n    <tr>\n      <th>4919</th>\n      <td>Impetigo</td>\n      <td>skin_rash</td>\n      <td>high_fever</td>\n      <td>blister</td>\n      <td>red_sore_around_nose</td>\n      <td>yellow_crust_ooze</td>\n      <td>NaN</td>\n      <td>NaN</td>\n      <td>NaN</td>\n      <td>NaN</td>\n      <td>NaN</td>\n      <td>NaN</td>\n      <td>NaN</td>\n      <td>NaN</td>\n      <td>NaN</td>\n      <td>NaN</td>\n      <td>NaN</td>\n      <td>NaN</td>\n    </tr>\n  </tbody>\n</table>\n<p>4920 rows × 18 columns</p>\n</div>"
     },
     "execution_count": 16,
     "metadata": {},
     "output_type": "execute_result"
    }
   ],
   "source": [
    "data"
   ]
  },
  {
   "cell_type": "code",
   "execution_count": 21,
   "outputs": [
    {
     "data": {
      "text/plain": "{' abdominal_pain',\n ' abnormal_menstruation',\n ' acidity',\n ' acute_liver_failure',\n ' altered_sensorium',\n ' anxiety',\n ' back_pain',\n ' belly_pain',\n ' blackheads',\n ' bladder_discomfort',\n ' blister',\n ' blood_in_sputum',\n ' bloody_stool',\n ' blurred_and_distorted_vision',\n ' breathlessness',\n ' brittle_nails',\n ' bruising',\n ' burning_micturition',\n ' chest_pain',\n ' chills',\n ' cold_hands_and_feets',\n ' coma',\n ' congestion',\n ' constipation',\n ' continuous_feel_of_urine',\n ' continuous_sneezing',\n ' cough',\n ' cramps',\n ' dark_urine',\n ' dehydration',\n ' depression',\n ' diarrhoea',\n ' dischromic _patches',\n ' distention_of_abdomen',\n ' dizziness',\n ' drying_and_tingling_lips',\n ' enlarged_thyroid',\n ' excessive_hunger',\n ' extra_marital_contacts',\n ' family_history',\n ' fast_heart_rate',\n ' fatigue',\n ' fluid_overload',\n ' foul_smell_of urine',\n ' headache',\n ' high_fever',\n ' hip_joint_pain',\n ' history_of_alcohol_consumption',\n ' increased_appetite',\n ' indigestion',\n ' inflammatory_nails',\n ' internal_itching',\n ' irregular_sugar_level',\n ' irritability',\n ' irritation_in_anus',\n ' joint_pain',\n ' knee_pain',\n ' lack_of_concentration',\n ' lethargy',\n ' loss_of_appetite',\n ' loss_of_balance',\n ' loss_of_smell',\n ' malaise',\n ' mild_fever',\n ' mood_swings',\n ' movement_stiffness',\n ' mucoid_sputum',\n ' muscle_pain',\n ' muscle_wasting',\n ' muscle_weakness',\n ' nausea',\n ' neck_pain',\n ' nodal_skin_eruptions',\n ' obesity',\n ' pain_behind_the_eyes',\n ' pain_during_bowel_movements',\n ' pain_in_anal_region',\n ' painful_walking',\n ' palpitations',\n ' passage_of_gases',\n ' patches_in_throat',\n ' phlegm',\n ' polyuria',\n ' prominent_veins_on_calf',\n ' puffy_face_and_eyes',\n ' pus_filled_pimples',\n ' receiving_blood_transfusion',\n ' receiving_unsterile_injections',\n ' red_sore_around_nose',\n ' red_spots_over_body',\n ' redness_of_eyes',\n ' restlessness',\n ' runny_nose',\n ' rusty_sputum',\n ' scurring',\n ' shivering',\n ' silver_like_dusting',\n ' sinus_pressure',\n ' skin_peeling',\n ' skin_rash',\n ' slurred_speech',\n ' small_dents_in_nails',\n ' spinning_movements',\n ' spotting_ urination',\n ' stiff_neck',\n ' stomach_bleeding',\n ' stomach_pain',\n ' sunken_eyes',\n ' sweating',\n ' swelled_lymph_nodes',\n ' swelling_joints',\n ' swelling_of_stomach',\n ' swollen_blood_vessels',\n ' swollen_extremeties',\n ' swollen_legs',\n ' throat_irritation',\n ' toxic_look_(typhos)',\n ' ulcers_on_tongue',\n ' unsteadiness',\n ' visual_disturbances',\n ' vomiting',\n ' watering_from_eyes',\n ' weakness_in_limbs',\n ' weakness_of_one_body_side',\n ' weight_gain',\n ' weight_loss',\n ' yellow_crust_ooze',\n ' yellow_urine',\n ' yellowing_of_eyes',\n ' yellowish_skin',\n 'itching'}"
     },
     "execution_count": 21,
     "metadata": {},
     "output_type": "execute_result"
    }
   ],
   "source": [
    "arr = data.to_numpy()\n",
    "\n",
    "allInflictions = set()\n",
    "for row in arr:\n",
    "    row = row[1:]\n",
    "    for item in row:\n",
    "        if type(item) is str and item not in allInflictions:\n",
    "            allInflictions.add(item)\n",
    "\n",
    "allInflictions"
   ],
   "metadata": {
    "collapsed": false
   }
  },
  {
   "cell_type": "code",
   "execution_count": 22,
   "outputs": [
    {
     "data": {
      "text/plain": "{' obesity': 0,\n ' irritability': 1,\n ' skin_rash': 2,\n ' small_dents_in_nails': 3,\n ' weakness_in_limbs': 4,\n ' ulcers_on_tongue': 5,\n ' bruising': 6,\n ' lack_of_concentration': 7,\n ' spotting_ urination': 8,\n ' family_history': 9,\n ' puffy_face_and_eyes': 10,\n ' bloody_stool': 11,\n ' abdominal_pain': 12,\n ' yellow_crust_ooze': 13,\n ' red_spots_over_body': 14,\n ' loss_of_appetite': 15,\n ' mild_fever': 16,\n ' chills': 17,\n ' sinus_pressure': 18,\n ' redness_of_eyes': 19,\n ' yellowish_skin': 20,\n ' weakness_of_one_body_side': 21,\n ' swollen_extremeties': 22,\n ' muscle_pain': 23,\n ' lethargy': 24,\n ' spinning_movements': 25,\n ' weight_loss': 26,\n ' high_fever': 27,\n ' swelling_joints': 28,\n ' acidity': 29,\n ' pain_behind_the_eyes': 30,\n ' continuous_feel_of_urine': 31,\n ' inflammatory_nails': 32,\n ' acute_liver_failure': 33,\n ' drying_and_tingling_lips': 34,\n ' pain_during_bowel_movements': 35,\n ' knee_pain': 36,\n ' movement_stiffness': 37,\n ' burning_micturition': 38,\n ' foul_smell_of urine': 39,\n ' pain_in_anal_region': 40,\n ' nausea': 41,\n ' polyuria': 42,\n ' watering_from_eyes': 43,\n ' sweating': 44,\n ' phlegm': 45,\n ' stiff_neck': 46,\n ' depression': 47,\n ' prominent_veins_on_calf': 48,\n ' swelled_lymph_nodes': 49,\n ' internal_itching': 50,\n ' coma': 51,\n ' runny_nose': 52,\n ' fluid_overload': 53,\n ' nodal_skin_eruptions': 54,\n ' continuous_sneezing': 55,\n ' dark_urine': 56,\n ' anxiety': 57,\n ' back_pain': 58,\n ' hip_joint_pain': 59,\n ' brittle_nails': 60,\n ' unsteadiness': 61,\n ' muscle_wasting': 62,\n ' receiving_unsterile_injections': 63,\n ' sunken_eyes': 64,\n ' cramps': 65,\n ' pus_filled_pimples': 66,\n ' weight_gain': 67,\n ' cough': 68,\n ' loss_of_balance': 69,\n ' altered_sensorium': 70,\n ' cold_hands_and_feets': 71,\n ' mucoid_sputum': 72,\n ' enlarged_thyroid': 73,\n ' mood_swings': 74,\n ' throat_irritation': 75,\n ' scurring': 76,\n ' receiving_blood_transfusion': 77,\n ' slurred_speech': 78,\n ' dischromic _patches': 79,\n ' loss_of_smell': 80,\n ' restlessness': 81,\n ' swelling_of_stomach': 82,\n ' toxic_look_(typhos)': 83,\n ' irregular_sugar_level': 84,\n ' rusty_sputum': 85,\n ' vomiting': 86,\n ' silver_like_dusting': 87,\n ' dizziness': 88,\n ' dehydration': 89,\n ' blackheads': 90,\n ' increased_appetite': 91,\n ' belly_pain': 92,\n ' constipation': 93,\n ' extra_marital_contacts': 94,\n ' red_sore_around_nose': 95,\n ' stomach_bleeding': 96,\n ' swollen_legs': 97,\n ' neck_pain': 98,\n ' chest_pain': 99,\n ' distention_of_abdomen': 100,\n 'itching': 101,\n ' blurred_and_distorted_vision': 102,\n ' diarrhoea': 103,\n ' headache': 104,\n ' swollen_blood_vessels': 105,\n ' yellowing_of_eyes': 106,\n ' visual_disturbances': 107,\n ' irritation_in_anus': 108,\n ' painful_walking': 109,\n ' yellow_urine': 110,\n ' congestion': 111,\n ' blister': 112,\n ' breathlessness': 113,\n ' fast_heart_rate': 114,\n ' bladder_discomfort': 115,\n ' shivering': 116,\n ' passage_of_gases': 117,\n ' stomach_pain': 118,\n ' indigestion': 119,\n ' palpitations': 120,\n ' malaise': 121,\n ' abnormal_menstruation': 122,\n ' patches_in_throat': 123,\n ' muscle_weakness': 124,\n ' history_of_alcohol_consumption': 125,\n ' excessive_hunger': 126,\n ' fatigue': 127,\n ' joint_pain': 128,\n ' skin_peeling': 129,\n ' blood_in_sputum': 130}"
     },
     "execution_count": 22,
     "metadata": {},
     "output_type": "execute_result"
    }
   ],
   "source": [
    "counter = 0\n",
    "indexer = {}\n",
    "for item in allInflictions:\n",
    "    indexer[item] = counter\n",
    "    counter += 1\n",
    "\n",
    "indexer"
   ],
   "metadata": {
    "collapsed": false
   }
  },
  {
   "cell_type": "code",
   "execution_count": 25,
   "outputs": [
    {
     "data": {
      "text/plain": "                                                      0  \\\n0     [0, 0, 1, 0, 0, 0, 0, 0, 0, 0, 0, 0, 0, 0, 0, ...   \n1     [0, 0, 1, 0, 0, 0, 0, 0, 0, 0, 0, 0, 0, 0, 0, ...   \n2     [0, 0, 0, 0, 0, 0, 0, 0, 0, 0, 0, 0, 0, 0, 0, ...   \n3     [0, 0, 1, 0, 0, 0, 0, 0, 0, 0, 0, 0, 0, 0, 0, ...   \n4     [0, 0, 1, 0, 0, 0, 0, 0, 0, 0, 0, 0, 0, 0, 0, ...   \n...                                                 ...   \n4915  [0, 0, 0, 0, 0, 0, 0, 0, 0, 0, 0, 0, 0, 0, 0, ...   \n4916  [0, 0, 1, 0, 0, 0, 0, 0, 0, 0, 0, 0, 0, 0, 0, ...   \n4917  [0, 0, 0, 0, 0, 0, 0, 0, 0, 0, 0, 0, 0, 0, 0, ...   \n4918  [0, 0, 1, 1, 0, 0, 0, 0, 0, 0, 0, 0, 0, 0, 0, ...   \n4919  [0, 0, 1, 0, 0, 0, 0, 0, 0, 0, 0, 0, 0, 1, 0, ...   \n\n                                              1  \n0                            [Fungal infection]  \n1                            [Fungal infection]  \n2                            [Fungal infection]  \n3                            [Fungal infection]  \n4                            [Fungal infection]  \n...                                         ...  \n4915  [(vertigo) Paroymsal  Positional Vertigo]  \n4916                                     [Acne]  \n4917                  [Urinary tract infection]  \n4918                                [Psoriasis]  \n4919                                 [Impetigo]  \n\n[4920 rows x 2 columns]",
      "text/html": "<div>\n<style scoped>\n    .dataframe tbody tr th:only-of-type {\n        vertical-align: middle;\n    }\n\n    .dataframe tbody tr th {\n        vertical-align: top;\n    }\n\n    .dataframe thead th {\n        text-align: right;\n    }\n</style>\n<table border=\"1\" class=\"dataframe\">\n  <thead>\n    <tr style=\"text-align: right;\">\n      <th></th>\n      <th>0</th>\n      <th>1</th>\n    </tr>\n  </thead>\n  <tbody>\n    <tr>\n      <th>0</th>\n      <td>[0, 0, 1, 0, 0, 0, 0, 0, 0, 0, 0, 0, 0, 0, 0, ...</td>\n      <td>[Fungal infection]</td>\n    </tr>\n    <tr>\n      <th>1</th>\n      <td>[0, 0, 1, 0, 0, 0, 0, 0, 0, 0, 0, 0, 0, 0, 0, ...</td>\n      <td>[Fungal infection]</td>\n    </tr>\n    <tr>\n      <th>2</th>\n      <td>[0, 0, 0, 0, 0, 0, 0, 0, 0, 0, 0, 0, 0, 0, 0, ...</td>\n      <td>[Fungal infection]</td>\n    </tr>\n    <tr>\n      <th>3</th>\n      <td>[0, 0, 1, 0, 0, 0, 0, 0, 0, 0, 0, 0, 0, 0, 0, ...</td>\n      <td>[Fungal infection]</td>\n    </tr>\n    <tr>\n      <th>4</th>\n      <td>[0, 0, 1, 0, 0, 0, 0, 0, 0, 0, 0, 0, 0, 0, 0, ...</td>\n      <td>[Fungal infection]</td>\n    </tr>\n    <tr>\n      <th>...</th>\n      <td>...</td>\n      <td>...</td>\n    </tr>\n    <tr>\n      <th>4915</th>\n      <td>[0, 0, 0, 0, 0, 0, 0, 0, 0, 0, 0, 0, 0, 0, 0, ...</td>\n      <td>[(vertigo) Paroymsal  Positional Vertigo]</td>\n    </tr>\n    <tr>\n      <th>4916</th>\n      <td>[0, 0, 1, 0, 0, 0, 0, 0, 0, 0, 0, 0, 0, 0, 0, ...</td>\n      <td>[Acne]</td>\n    </tr>\n    <tr>\n      <th>4917</th>\n      <td>[0, 0, 0, 0, 0, 0, 0, 0, 0, 0, 0, 0, 0, 0, 0, ...</td>\n      <td>[Urinary tract infection]</td>\n    </tr>\n    <tr>\n      <th>4918</th>\n      <td>[0, 0, 1, 1, 0, 0, 0, 0, 0, 0, 0, 0, 0, 0, 0, ...</td>\n      <td>[Psoriasis]</td>\n    </tr>\n    <tr>\n      <th>4919</th>\n      <td>[0, 0, 1, 0, 0, 0, 0, 0, 0, 0, 0, 0, 0, 1, 0, ...</td>\n      <td>[Impetigo]</td>\n    </tr>\n  </tbody>\n</table>\n<p>4920 rows × 2 columns</p>\n</div>"
     },
     "execution_count": 25,
     "metadata": {},
     "output_type": "execute_result"
    }
   ],
   "source": [
    "structured = [] # 2D array of data [[0s/1s], [diseasename]]\n",
    "for row in arr:\n",
    "    infliction = row[0]\n",
    "    row = row[1:]\n",
    "    newRow = [0 for i in range(counter)]\n",
    "    for symptom in row:\n",
    "        if type(symptom) is str:\n",
    "            newRow[indexer[symptom]] = 1\n",
    "    structured.append([newRow, [infliction]])\n",
    "\n",
    "df = pd.DataFrame(structured)\n",
    "df"
   ],
   "metadata": {
    "collapsed": false
   }
  },
  {
   "cell_type": "code",
   "execution_count": 29,
   "outputs": [
    {
     "data": {
      "text/plain": "[' obesity',\n ' irritability',\n ' skin_rash',\n ' small_dents_in_nails',\n ' weakness_in_limbs',\n ' ulcers_on_tongue',\n ' bruising',\n ' lack_of_concentration',\n ' spotting_ urination',\n ' family_history',\n ' puffy_face_and_eyes',\n ' bloody_stool',\n ' abdominal_pain',\n ' yellow_crust_ooze',\n ' red_spots_over_body',\n ' loss_of_appetite',\n ' mild_fever',\n ' chills',\n ' sinus_pressure',\n ' redness_of_eyes',\n ' yellowish_skin',\n ' weakness_of_one_body_side',\n ' swollen_extremeties',\n ' muscle_pain',\n ' lethargy',\n ' spinning_movements',\n ' weight_loss',\n ' high_fever',\n ' swelling_joints',\n ' acidity',\n ' pain_behind_the_eyes',\n ' continuous_feel_of_urine',\n ' inflammatory_nails',\n ' acute_liver_failure',\n ' drying_and_tingling_lips',\n ' pain_during_bowel_movements',\n ' knee_pain',\n ' movement_stiffness',\n ' burning_micturition',\n ' foul_smell_of urine',\n ' pain_in_anal_region',\n ' nausea',\n ' polyuria',\n ' watering_from_eyes',\n ' sweating',\n ' phlegm',\n ' stiff_neck',\n ' depression',\n ' prominent_veins_on_calf',\n ' swelled_lymph_nodes',\n ' internal_itching',\n ' coma',\n ' runny_nose',\n ' fluid_overload',\n ' nodal_skin_eruptions',\n ' continuous_sneezing',\n ' dark_urine',\n ' anxiety',\n ' back_pain',\n ' hip_joint_pain',\n ' brittle_nails',\n ' unsteadiness',\n ' muscle_wasting',\n ' receiving_unsterile_injections',\n ' sunken_eyes',\n ' cramps',\n ' pus_filled_pimples',\n ' weight_gain',\n ' cough',\n ' loss_of_balance',\n ' altered_sensorium',\n ' cold_hands_and_feets',\n ' mucoid_sputum',\n ' enlarged_thyroid',\n ' mood_swings',\n ' throat_irritation',\n ' scurring',\n ' receiving_blood_transfusion',\n ' slurred_speech',\n ' dischromic _patches',\n ' loss_of_smell',\n ' restlessness',\n ' swelling_of_stomach',\n ' toxic_look_(typhos)',\n ' irregular_sugar_level',\n ' rusty_sputum',\n ' vomiting',\n ' silver_like_dusting',\n ' dizziness',\n ' dehydration',\n ' blackheads',\n ' increased_appetite',\n ' belly_pain',\n ' constipation',\n ' extra_marital_contacts',\n ' red_sore_around_nose',\n ' stomach_bleeding',\n ' swollen_legs',\n ' neck_pain',\n ' chest_pain',\n ' distention_of_abdomen',\n 'itching',\n ' blurred_and_distorted_vision',\n ' diarrhoea',\n ' headache',\n ' swollen_blood_vessels',\n ' yellowing_of_eyes',\n ' visual_disturbances',\n ' irritation_in_anus',\n ' painful_walking',\n ' yellow_urine',\n ' congestion',\n ' blister',\n ' breathlessness',\n ' fast_heart_rate',\n ' bladder_discomfort',\n ' shivering',\n ' passage_of_gases',\n ' stomach_pain',\n ' indigestion',\n ' palpitations',\n ' malaise',\n ' abnormal_menstruation',\n ' patches_in_throat',\n ' muscle_weakness',\n ' history_of_alcohol_consumption',\n ' excessive_hunger',\n ' fatigue',\n ' joint_pain',\n ' skin_peeling',\n ' blood_in_sputum']"
     },
     "execution_count": 29,
     "metadata": {},
     "output_type": "execute_result"
    }
   ],
   "source": [
    "ordered_list = sorted((value, key) for key, value in indexer.items())\n",
    "ordered_words_only = [item[1].strip() for item in ordered_list]\n",
    "\n",
    "#ordered_list\n",
    "ordered_words_only"
   ],
   "metadata": {
    "collapsed": false
   }
  },
  {
   "cell_type": "code",
   "execution_count": null,
   "outputs": [],
   "source": [],
   "metadata": {
    "collapsed": false
   }
  }
 ],
 "metadata": {
  "kernelspec": {
   "display_name": "Python 3",
   "language": "python",
   "name": "python3"
  },
  "language_info": {
   "codemirror_mode": {
    "name": "ipython",
    "version": 3
   },
   "file_extension": ".py",
   "mimetype": "text/x-python",
   "name": "python",
   "nbconvert_exporter": "python",
   "pygments_lexer": "ipython3",
   "version": "3.11.1"
  }
 },
 "nbformat": 4,
 "nbformat_minor": 2
}
